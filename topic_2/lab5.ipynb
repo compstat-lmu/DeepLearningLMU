{
 "cells": [
  {
   "cell_type": "code",
   "execution_count": 1,
   "metadata": {},
   "outputs": [],
   "source": [
    "from abc import ABC, abstractmethod\n",
    "\n",
    "from anytree import AnyNode, RenderTree\n",
    "import numpy as np\n",
    "import pandas as pd\n",
    "import matplotlib.pyplot as plt\n",
    "\n",
    "np.random.seed(1)"
   ]
  },
  {
   "cell_type": "markdown",
   "metadata": {},
   "source": [
    "## Exercise 1"
   ]
  },
  {
   "cell_type": "markdown",
   "metadata": {},
   "source": [
    "#### Abstract Base Class\n",
    "Every subclass of \"Expression\" must implement these functions"
   ]
  },
  {
   "cell_type": "code",
   "execution_count": 2,
   "metadata": {},
   "outputs": [],
   "source": [
    "class Expression(ABC):\n",
    "    \n",
    "    @abstractmethod\n",
    "    def __str__(self):\n",
    "        pass\n",
    "    \n",
    "    @abstractmethod\n",
    "    def eval(self):\n",
    "        pass\n",
    "    \n",
    "    @abstractmethod\n",
    "    def derivative(self):\n",
    "        pass\n",
    "    \n",
    "    @abstractmethod\n",
    "    def simplify(self):\n",
    "        pass"
   ]
  },
  {
   "cell_type": "markdown",
   "metadata": {},
   "source": [
    "#### Constant Class"
   ]
  },
  {
   "cell_type": "code",
   "execution_count": 3,
   "metadata": {},
   "outputs": [],
   "source": [
    "class Const(Expression):\n",
    "    def __init__(self, value):\n",
    "        self.value = value\n",
    "\n",
    "    def __str__(self):\n",
    "        return str(self.value)\n",
    "    \n",
    "    def eval(self):\n",
    "        return self.value\n",
    "    \n",
    "    def derivative(self, var):\n",
    "        return Const(0)\n",
    "    \n",
    "    def simplify(self):\n",
    "        return self"
   ]
  },
  {
   "cell_type": "markdown",
   "metadata": {},
   "source": [
    "#### Variable Class"
   ]
  },
  {
   "cell_type": "code",
   "execution_count": 4,
   "metadata": {},
   "outputs": [],
   "source": [
    "class Var(Expression):\n",
    "    def __init__(self, name, value=None):\n",
    "        self.name = name\n",
    "        self.value = value\n",
    "        \n",
    "    def __str__(self):\n",
    "        return self.name\n",
    "    \n",
    "    def eval(self):\n",
    "        if self.value is not None:\n",
    "            return self.value\n",
    "        else:\n",
    "            try:\n",
    "                return env[self.name]\n",
    "            except:\n",
    "                raise Exception(f'Variable {self.name} not initialized!')\n",
    "            \n",
    "    def derivative(self, var):\n",
    "        if self.name == var:\n",
    "            return Const(1)\n",
    "        else:\n",
    "            return Const(0)\n",
    "        \n",
    "    def simplify(self):\n",
    "        return self"
   ]
  },
  {
   "cell_type": "markdown",
   "metadata": {},
   "source": [
    "#### Sum Class"
   ]
  },
  {
   "cell_type": "code",
   "execution_count": 5,
   "metadata": {},
   "outputs": [],
   "source": [
    "class Sum(Expression):\n",
    "    def __init__(self, left, right):\n",
    "        self.left = left\n",
    "        self.right = right\n",
    "        \n",
    "    def __str__(self):\n",
    "        return f'({str(self.left)}+{str(self.right)})'\n",
    "    \n",
    "    def eval(self):\n",
    "        return self.left.eval() + self.right.eval()\n",
    "    \n",
    "    def derivative(self, var):\n",
    "        return Sum(self.left.derivative(var), self.right.derivative(var))\n",
    "    \n",
    "    def simplify(self):\n",
    "        sx = self.left.simplify()\n",
    "        sy = self.right.simplify()\n",
    "        try:\n",
    "            sx_val = sx.eval()\n",
    "        except:\n",
    "            sx_val = None\n",
    "        try:\n",
    "            sy_val = sy.eval()\n",
    "        except:\n",
    "            sy_val = None\n",
    "        \n",
    "        if sx_val == 0:\n",
    "            return sy\n",
    "        elif sy_val == 0:\n",
    "            return sx\n",
    "        elif isinstance(sx, Const) and isinstance(sy, Const):\n",
    "            return Const(sx_val + sy_val)\n",
    "        else:\n",
    "            return Sum(sx, sy)"
   ]
  },
  {
   "cell_type": "markdown",
   "metadata": {},
   "source": [
    "#### Subtraction Class"
   ]
  },
  {
   "cell_type": "code",
   "execution_count": 6,
   "metadata": {},
   "outputs": [],
   "source": [
    "class Sub(Expression):\n",
    "    def __init__(self, left, right):\n",
    "        self.left = left\n",
    "        self.right = right\n",
    "        \n",
    "    def __str__(self):\n",
    "        return f'({str(self.left)}-{str(self.right)})'\n",
    "    \n",
    "    def eval(self):\n",
    "        return self.left.eval() - self.right.eval()\n",
    "    \n",
    "    def derivative(self, var):\n",
    "        return Sub(self.left.derivative(var), self.right.derivative(var))\n",
    "    \n",
    "    def simplify(self):\n",
    "        sx = self.left.simplify()\n",
    "        sy = self.right.simplify()\n",
    "        try:\n",
    "            sx_val = sx.eval()\n",
    "        except:\n",
    "            sx_val = None\n",
    "        try:\n",
    "            sy_val = sy.eval()\n",
    "        except:\n",
    "            sy_val = None\n",
    "        \n",
    "        if sy_val == 0:\n",
    "            return sx\n",
    "        elif isinstance(sx, Const) and isinstance(sy, Const):\n",
    "            return Const(sx_val - sy_val)\n",
    "        elif sx_val == 0:\n",
    "            return Mul(Const(-1),sy)\n",
    "        else:\n",
    "            return Sub(sx, sy)   "
   ]
  },
  {
   "cell_type": "markdown",
   "metadata": {},
   "source": [
    "#### Multiplication Class"
   ]
  },
  {
   "cell_type": "code",
   "execution_count": 7,
   "metadata": {},
   "outputs": [],
   "source": [
    "class Mul(Expression):\n",
    "    def __init__(self, left, right):\n",
    "        self.left = left\n",
    "        self.right = right\n",
    "        \n",
    "    def __str__(self):\n",
    "        return f'({str(self.left)}*{str(self.right)})'\n",
    "    \n",
    "    def simplify(self):\n",
    "        if any((self.left.eval() == 0, self.right.eval()==0)):\n",
    "            return Const(0)\n",
    "        else:\n",
    "            return self   \n",
    "    \n",
    "    def eval(self):\n",
    "        return self.left.eval() * self.right.eval()  \n",
    "    \n",
    "    def derivative(self, var):\n",
    "        return Sum(Mul(self.left.derivative(var),self.right),Mul(self.left,self.right.derivative(var)))\n",
    "\n",
    "    def simplify(self):\n",
    "        sx = self.left.simplify()\n",
    "        sy = self.right.simplify()\n",
    "        try:\n",
    "            sx_val = sx.eval()\n",
    "        except:\n",
    "            sx_val = None\n",
    "        try:\n",
    "            sy_val = sy.eval()\n",
    "        except:\n",
    "            sy_val = None\n",
    "            \n",
    "        if sx_val == 0 or sy_val == 0:\n",
    "            return Const(0)\n",
    "        if sx_val == 1:\n",
    "            return sy\n",
    "        if sy_val == 1:\n",
    "            return sx\n",
    "        elif isinstance(sx, Const) and isinstance(sy, Const):\n",
    "            return Const(sx_val * sy_val)\n",
    "        else:\n",
    "            return Mul(sx, sy)    "
   ]
  },
  {
   "cell_type": "markdown",
   "metadata": {},
   "source": [
    "#### Division Class"
   ]
  },
  {
   "cell_type": "code",
   "execution_count": 8,
   "metadata": {},
   "outputs": [],
   "source": [
    "class Div(Expression):\n",
    "    def __init__(self, left, right):\n",
    "        self.left = left\n",
    "        self.right = right\n",
    "        \n",
    "    def __str__(self):\n",
    "        return f'({str(self.left)}/{str(self.right)})'\n",
    "    \n",
    "    def eval(self):\n",
    "        return self.left.eval() / self.right.eval()\n",
    "    \n",
    "    def derivative(self, var):\n",
    "        dy = self.right.derivative(var)\n",
    "        return Div(Sub(Mul(self.left.derivative(var),self.right,Mul(self.left,dy),Mul(dy,dy))))\n",
    "    \n",
    "    def simplify(self):\n",
    "        sx = self.left.simplify()\n",
    "        sy = self.right.simplify()\n",
    "        try:\n",
    "            sx_val = sx.eval()\n",
    "        except:\n",
    "            sx_val = None\n",
    "        try:\n",
    "            sy_val = sy.eval()\n",
    "        except:\n",
    "            sy_val = None\n",
    "            \n",
    "        if sx_val == 0:\n",
    "            return Const(0)\n",
    "        if sy_val == 0:\n",
    "            raise Exception('division by zero')\n",
    "        if sy_val == 1:\n",
    "            return sx\n",
    "        elif isinstance(sx, Const) and isinstance(sy, Const):\n",
    "            return Const(sx_val / sy_val)\n",
    "        else:\n",
    "            return Div(sx, sy)"
   ]
  },
  {
   "cell_type": "markdown",
   "metadata": {},
   "source": [
    "#### Exponential Function Class"
   ]
  },
  {
   "cell_type": "code",
   "execution_count": 9,
   "metadata": {},
   "outputs": [],
   "source": [
    "class Exp(Expression):\n",
    "    def __init__(self, value):\n",
    "        self.value = value\n",
    "    \n",
    "    def __str__(self):\n",
    "        return f'exp({str(self.value)})'\n",
    "    \n",
    "    def eval(self):\n",
    "        return np.exp(self.value.eval())\n",
    "    \n",
    "    def derivative(self,var):\n",
    "        return Mul(Exp(self.value),self.value.derivative(var))\n",
    "\n",
    "    def simplify(self):\n",
    "        sx = self.value.simplify()\n",
    "        try:\n",
    "            sx_val = sx.eval()\n",
    "        except:\n",
    "            sx_val = None\n",
    "        if sx_val == 0:\n",
    "            return Const(1)\n",
    "        elif isinstance(sx, Const):\n",
    "            return Const(np.exp(sx_val))\n",
    "        else:\n",
    "            return Exp(sx)"
   ]
  },
  {
   "cell_type": "markdown",
   "metadata": {},
   "source": [
    "#### Logarithm Class"
   ]
  },
  {
   "cell_type": "code",
   "execution_count": 10,
   "metadata": {},
   "outputs": [],
   "source": [
    "class Log(Expression):\n",
    "    def __init__(self, value):\n",
    "        self.value = value\n",
    "    \n",
    "    def __str__(self):\n",
    "        return f'log({str(self.value)})'\n",
    "    \n",
    "    def eval(self):\n",
    "        return np.log(self.value.eval()) \n",
    "    \n",
    "    def derivative(self,var):\n",
    "        return Div(self.value.derivative(var), self.value)\n",
    "    \n",
    "    def simplify(self):\n",
    "        sx = self.value.simplify()\n",
    "        try:\n",
    "            sx_val = sx.eval()\n",
    "        except:\n",
    "            sx_val = None\n",
    "        if sx_val <= 0:\n",
    "            raise Exception('logarithm of non-positive number')\n",
    "        elif isinstance(sx, Const):\n",
    "            return Const(np.log(sx_val))\n",
    "        else:\n",
    "            return Log(sx)"
   ]
  },
  {
   "cell_type": "markdown",
   "metadata": {},
   "source": [
    "#### Hyperbolic Tangent Class"
   ]
  },
  {
   "cell_type": "code",
   "execution_count": 11,
   "metadata": {},
   "outputs": [],
   "source": [
    "class Tanh(Expression):\n",
    "    def __init__(self, value):\n",
    "        self.value = value\n",
    "    \n",
    "    def __str__(self):\n",
    "        return f'tanh({str(self.value)})'\n",
    "    \n",
    "    def eval(self):\n",
    "        return np.tanh(self.value.eval())   \n",
    "    \n",
    "    def derivative(self,var):\n",
    "        tx = Tanh(self.value)\n",
    "        return Mul(Sub(Const(1),Mul(tx,tx)),self.value.derivative(var))\n",
    "    \n",
    "    def simplify(self):\n",
    "        sx = self.value.simplify()\n",
    "        try:\n",
    "            sx_val = sx.eval()\n",
    "        except:\n",
    "            sx_val = None\n",
    "        if sx_val == 0:\n",
    "            return Const(0)\n",
    "        elif isinstance(sx, Const):\n",
    "            return Const(np.tanh(sx_val))\n",
    "        else:\n",
    "            return Tanh(sx)"
   ]
  },
  {
   "cell_type": "markdown",
   "metadata": {},
   "source": [
    "#### Define a computation graph"
   ]
  },
  {
   "cell_type": "code",
   "execution_count": 12,
   "metadata": {},
   "outputs": [],
   "source": [
    "x = Var('x')\n",
    "y = Var('y')\n",
    "\n",
    "z = Sum(\n",
    "        Mul(\n",
    "            Mul(Const(4),x),\n",
    "            y\n",
    "        ),\n",
    "        Exp(\n",
    "            Mul(Const(-1),y)\n",
    "        )\n",
    "    )"
   ]
  },
  {
   "cell_type": "markdown",
   "metadata": {},
   "source": [
    "#### Print the graph"
   ]
  },
  {
   "cell_type": "code",
   "execution_count": 13,
   "metadata": {},
   "outputs": [
    {
     "name": "stdout",
     "output_type": "stream",
     "text": [
      "(((4*x)*y)+exp((-1*y)))\n"
     ]
    }
   ],
   "source": [
    "print(z)"
   ]
  },
  {
   "cell_type": "markdown",
   "metadata": {},
   "source": [
    "#### Visualize as a tree"
   ]
  },
  {
   "cell_type": "code",
   "execution_count": 14,
   "metadata": {},
   "outputs": [],
   "source": [
    "def build_tree(expr):\n",
    "    class_name = expr.__class__.__name__\n",
    "    if isinstance(expr, Const):\n",
    "        return AnyNode(label=class_name,value=expr.value)\n",
    "    if  isinstance(expr, Var):\n",
    "        return AnyNode(label=class_name,value=expr.value,name=expr.name)\n",
    "    if 'left' in expr.__dir__():\n",
    "        children = [build_tree(expr.left)]\n",
    "        children.append(build_tree(expr.right))\n",
    "    else:\n",
    "        children = [build_tree(expr.value)]\n",
    "    return AnyNode(label=class_name, children=children)"
   ]
  },
  {
   "cell_type": "code",
   "execution_count": 15,
   "metadata": {},
   "outputs": [],
   "source": [
    "z_tree = build_tree(z)"
   ]
  },
  {
   "cell_type": "code",
   "execution_count": 16,
   "metadata": {},
   "outputs": [
    {
     "name": "stdout",
     "output_type": "stream",
     "text": [
      "AnyNode(label='Sum')\n",
      "├── AnyNode(label='Mul')\n",
      "│   ├── AnyNode(label='Mul')\n",
      "│   │   ├── AnyNode(label='Const', value=4)\n",
      "│   │   └── AnyNode(label='Var', name='x', value=None)\n",
      "│   └── AnyNode(label='Var', name='y', value=None)\n",
      "└── AnyNode(label='Exp')\n",
      "    └── AnyNode(label='Mul')\n",
      "        ├── AnyNode(label='Const', value=-1)\n",
      "        └── AnyNode(label='Var', name='y', value=None)\n"
     ]
    }
   ],
   "source": [
    "print(RenderTree(z_tree))"
   ]
  },
  {
   "cell_type": "markdown",
   "metadata": {},
   "source": [
    "#### Computing the value of an expression"
   ]
  },
  {
   "cell_type": "code",
   "execution_count": 17,
   "metadata": {},
   "outputs": [
    {
     "data": {
      "text/plain": [
       "24.049787068367863"
      ]
     },
     "execution_count": 17,
     "metadata": {},
     "output_type": "execute_result"
    }
   ],
   "source": [
    "x = Var('x',2)\n",
    "y = Var('y',3)\n",
    "z = Sum(\n",
    "        Mul(\n",
    "            Mul(Const(4),x),\n",
    "            y\n",
    "        ),\n",
    "        Exp(\n",
    "            Mul(Const(-1),y)\n",
    "        )\n",
    "    )\n",
    "z.eval()"
   ]
  },
  {
   "cell_type": "markdown",
   "metadata": {},
   "source": [
    "#### Differentiating an expression"
   ]
  },
  {
   "cell_type": "code",
   "execution_count": 18,
   "metadata": {},
   "outputs": [
    {
     "name": "stdout",
     "output_type": "stream",
     "text": [
      "(((((0*x)+(4*1))*y)+((4*x)*0))+(exp((-1*y))*((0*y)+(-1*0))))\n"
     ]
    }
   ],
   "source": [
    "dz_dx = z.derivative('x')\n",
    "print(dz_dx)"
   ]
  },
  {
   "cell_type": "markdown",
   "metadata": {},
   "source": [
    "#### Simplify the derivative graph"
   ]
  },
  {
   "cell_type": "code",
   "execution_count": 19,
   "metadata": {},
   "outputs": [
    {
     "name": "stdout",
     "output_type": "stream",
     "text": [
      "(4*y)\n"
     ]
    }
   ],
   "source": [
    "dz_dx_simple = dz_dx.simplify()\n",
    "print(dz_dx_simple)"
   ]
  },
  {
   "cell_type": "code",
   "execution_count": 20,
   "metadata": {},
   "outputs": [
    {
     "name": "stdout",
     "output_type": "stream",
     "text": [
      "4\n"
     ]
    }
   ],
   "source": [
    "print(dz_dx_simple.derivative('y').simplify())"
   ]
  },
  {
   "cell_type": "markdown",
   "metadata": {},
   "source": [
    "### Training a network"
   ]
  },
  {
   "cell_type": "markdown",
   "metadata": {},
   "source": [
    "#### Forward pass"
   ]
  },
  {
   "cell_type": "code",
   "execution_count": 21,
   "metadata": {},
   "outputs": [],
   "source": [
    "x1 = Var('x1')\n",
    "x2 = Var('x2')\n",
    "\n",
    "b1 = Var('b1')\n",
    "\n",
    "w11 = Var('w11')\n",
    "w21 = Var('w21')\n",
    "\n",
    "b2 = Var('b2')\n",
    "w12 = Var('w12')\n",
    "w22 = Var('w22')\n",
    "\n",
    "z1_out = Tanh(\n",
    "    Sum(\n",
    "        b1,\n",
    "        Sum(\n",
    "            Mul(x1,w11),\n",
    "            Mul(x2,w21)\n",
    "        )\n",
    "    )\n",
    ")\n",
    "z2_out = Tanh(\n",
    "    Sum(\n",
    "        b2,\n",
    "        Sum(\n",
    "            Mul(x1,w12),\n",
    "            Mul(x2,w22)\n",
    "        )\n",
    "    )\n",
    ")\n",
    "\n",
    "c = Var('c')\n",
    "u1 = Var('u1')\n",
    "u2 = Var('u2')\n",
    "\n",
    "f_in = Sum(\n",
    "            c,\n",
    "            Sum(\n",
    "                Mul(z1_out, u1),\n",
    "                Mul(z2_out, u2)\n",
    "            )\n",
    "        )\n",
    "\n",
    "f_out = Div(\n",
    "            Const(1),\n",
    "            Sum(\n",
    "                Const(1),\n",
    "                Exp(Mul(Const(-1),f_in))\n",
    "            )\n",
    "        )"
   ]
  },
  {
   "cell_type": "code",
   "execution_count": 22,
   "metadata": {},
   "outputs": [
    {
     "name": "stdout",
     "output_type": "stream",
     "text": [
      "(1/(1+exp((-1*(c+((tanh((b1+((x1*w11)+(x2*w21))))*u1)+(tanh((b2+((x1*w12)+(x2*w22))))*u2)))))))\n"
     ]
    }
   ],
   "source": [
    "print(f_out)"
   ]
  },
  {
   "cell_type": "code",
   "execution_count": 23,
   "metadata": {},
   "outputs": [
    {
     "name": "stdout",
     "output_type": "stream",
     "text": [
      "AnyNode(label='Div')\n",
      "├── AnyNode(label='Const', value=1)\n",
      "└── AnyNode(label='Sum')\n",
      "    ├── AnyNode(label='Const', value=1)\n",
      "    └── AnyNode(label='Exp')\n",
      "        └── AnyNode(label='Mul')\n",
      "            ├── AnyNode(label='Const', value=-1)\n",
      "            └── AnyNode(label='Sum')\n",
      "                ├── AnyNode(label='Var', name='c', value=None)\n",
      "                └── AnyNode(label='Sum')\n",
      "                    ├── AnyNode(label='Mul')\n",
      "                    │   ├── AnyNode(label='Tanh')\n",
      "                    │   │   └── AnyNode(label='Sum')\n",
      "                    │   │       ├── AnyNode(label='Var', name='b1', value=None)\n",
      "                    │   │       └── AnyNode(label='Sum')\n",
      "                    │   │           ├── AnyNode(label='Mul')\n",
      "                    │   │           │   ├── AnyNode(label='Var', name='x1', value=None)\n",
      "                    │   │           │   └── AnyNode(label='Var', name='w11', value=None)\n",
      "                    │   │           └── AnyNode(label='Mul')\n",
      "                    │   │               ├── AnyNode(label='Var', name='x2', value=None)\n",
      "                    │   │               └── AnyNode(label='Var', name='w21', value=None)\n",
      "                    │   └── AnyNode(label='Var', name='u1', value=None)\n",
      "                    └── AnyNode(label='Mul')\n",
      "                        ├── AnyNode(label='Tanh')\n",
      "                        │   └── AnyNode(label='Sum')\n",
      "                        │       ├── AnyNode(label='Var', name='b2', value=None)\n",
      "                        │       └── AnyNode(label='Sum')\n",
      "                        │           ├── AnyNode(label='Mul')\n",
      "                        │           │   ├── AnyNode(label='Var', name='x1', value=None)\n",
      "                        │           │   └── AnyNode(label='Var', name='w12', value=None)\n",
      "                        │           └── AnyNode(label='Mul')\n",
      "                        │               ├── AnyNode(label='Var', name='x2', value=None)\n",
      "                        │               └── AnyNode(label='Var', name='w22', value=None)\n",
      "                        └── AnyNode(label='Var', name='u2', value=None)\n"
     ]
    }
   ],
   "source": [
    "f_out_tree = build_tree(f_out)\n",
    "print(RenderTree(f_out_tree))"
   ]
  },
  {
   "cell_type": "code",
   "execution_count": 24,
   "metadata": {},
   "outputs": [],
   "source": [
    "# set variable values through environment:\n",
    "env = {\n",
    "    'b1': 1.543385, \n",
    "    'w11': 3.111573, \n",
    "    'w12': -2.808800,\n",
    "    'b2': 1.373085, \n",
    "    'w21': 3.130452, \n",
    "    'w22': -2.813466,\n",
    "    'c': -4.241453, \n",
    "    'u1': 4.036489, \n",
    "    'u2': 4.074885,\n",
    "    'x1': 1,\n",
    "    'x2': -1\n",
    "}"
   ]
  },
  {
   "cell_type": "code",
   "execution_count": 25,
   "metadata": {},
   "outputs": [
    {
     "data": {
      "text/plain": [
       "0.9094797051327462"
      ]
     },
     "execution_count": 25,
     "metadata": {},
     "output_type": "execute_result"
    }
   ],
   "source": [
    "z1_out.eval()"
   ]
  },
  {
   "cell_type": "markdown",
   "metadata": {},
   "source": [
    "#### Loss"
   ]
  },
  {
   "cell_type": "code",
   "execution_count": 26,
   "metadata": {},
   "outputs": [],
   "source": [
    "y = Var('y')\n",
    "\n",
    "loss = Sum(\n",
    "    Sub(\n",
    "        f_in,\n",
    "        Mul(f_in,y)\n",
    "    ),\n",
    "    Log(Sum(\n",
    "        Const(1),\n",
    "        Exp(Mul(Const(-1),f_in))\n",
    "    ))\n",
    ")"
   ]
  },
  {
   "cell_type": "code",
   "execution_count": 27,
   "metadata": {},
   "outputs": [
    {
     "name": "stdout",
     "output_type": "stream",
     "text": [
      "(((c+((tanh((b1+((x1*w11)+(x2*w21))))*u1)+(tanh((b2+((x1*w12)+(x2*w22))))*u2)))-((c+((tanh((b1+((x1*w11)+(x2*w21))))*u1)+(tanh((b2+((x1*w12)+(x2*w22))))*u2)))*y))+log((1+exp((-1*(c+((tanh((b1+((x1*w11)+(x2*w21))))*u1)+(tanh((b2+((x1*w12)+(x2*w22))))*u2))))))))\n"
     ]
    }
   ],
   "source": [
    "print(loss)"
   ]
  },
  {
   "cell_type": "markdown",
   "metadata": {},
   "source": [
    "#### Gradients"
   ]
  },
  {
   "cell_type": "code",
   "execution_count": 28,
   "metadata": {},
   "outputs": [],
   "source": [
    "# Note: when variable values can be updated from \"outside\" (i.e., through the env dict)\n",
    "# simplification should not be used in the way it is implemented here (a simplification could only be valid\n",
    "# for a given value of the variable, and changing this value after the fact could thus make the simplification invalid)\n",
    "param_names = (\"b1\", \"w11\", \"w12\", \"b2\", \"w21\", \"w22\", \"c\", \"u1\", \"u2\")\n",
    "gradient_graphs = list(map(lambda x: loss.derivative(x).simplify(), param_names))"
   ]
  },
  {
   "cell_type": "code",
   "execution_count": 29,
   "metadata": {},
   "outputs": [
    {
     "name": "stdout",
     "output_type": "stream",
     "text": [
      "((((1-(tanh((b1+(w11+(x2*w21))))*tanh((b1+(w11+(x2*w21))))))*u1)-(((1-(tanh((b1+(w11+(x2*w21))))*tanh((b1+(w11+(x2*w21))))))*u1)*y))+((exp((-1*(c+((tanh((b1+(w11+(x2*w21))))*u1)+(tanh((b2+(w12+(x2*w22))))*u2)))))*(-1*((1-(tanh((b1+(w11+(x2*w21))))*tanh((b1+(w11+(x2*w21))))))*u1)))/(1+exp((-1*(c+((tanh((b1+(w11+(x2*w21))))*u1)+(tanh((b2+(w12+(x2*w22))))*u2))))))))\n"
     ]
    }
   ],
   "source": [
    "print(gradient_graphs[1])"
   ]
  },
  {
   "cell_type": "markdown",
   "metadata": {},
   "source": [
    "#### Training data"
   ]
  },
  {
   "cell_type": "code",
   "execution_count": 30,
   "metadata": {},
   "outputs": [
    {
     "data": {
      "text/html": [
       "<div>\n",
       "<style scoped>\n",
       "    .dataframe tbody tr th:only-of-type {\n",
       "        vertical-align: middle;\n",
       "    }\n",
       "\n",
       "    .dataframe tbody tr th {\n",
       "        vertical-align: top;\n",
       "    }\n",
       "\n",
       "    .dataframe thead th {\n",
       "        text-align: right;\n",
       "    }\n",
       "</style>\n",
       "<table border=\"1\" class=\"dataframe\">\n",
       "  <thead>\n",
       "    <tr style=\"text-align: right;\">\n",
       "      <th></th>\n",
       "      <th>x1</th>\n",
       "      <th>x2</th>\n",
       "      <th>y</th>\n",
       "    </tr>\n",
       "  </thead>\n",
       "  <tbody>\n",
       "    <tr>\n",
       "      <th>0</th>\n",
       "      <td>0</td>\n",
       "      <td>0</td>\n",
       "      <td>1</td>\n",
       "    </tr>\n",
       "    <tr>\n",
       "      <th>1</th>\n",
       "      <td>1</td>\n",
       "      <td>0</td>\n",
       "      <td>0</td>\n",
       "    </tr>\n",
       "    <tr>\n",
       "      <th>2</th>\n",
       "      <td>0</td>\n",
       "      <td>-1</td>\n",
       "      <td>0</td>\n",
       "    </tr>\n",
       "    <tr>\n",
       "      <th>3</th>\n",
       "      <td>-1</td>\n",
       "      <td>0</td>\n",
       "      <td>0</td>\n",
       "    </tr>\n",
       "    <tr>\n",
       "      <th>4</th>\n",
       "      <td>0</td>\n",
       "      <td>1</td>\n",
       "      <td>0</td>\n",
       "    </tr>\n",
       "  </tbody>\n",
       "</table>\n",
       "</div>"
      ],
      "text/plain": [
       "   x1  x2  y\n",
       "0   0   0  1\n",
       "1   1   0  0\n",
       "2   0  -1  0\n",
       "3  -1   0  0\n",
       "4   0   1  0"
      ]
     },
     "execution_count": 30,
     "metadata": {},
     "output_type": "execute_result"
    }
   ],
   "source": [
    "train_data = pd.DataFrame(data=np.array([[0,1,0,-1,0],[0,0,-1,0,1],[1,0,0,0,0]]).T, columns=['x1','x2','y'] )\n",
    "train_data"
   ]
  },
  {
   "cell_type": "markdown",
   "metadata": {},
   "source": [
    "#### Initialization"
   ]
  },
  {
   "cell_type": "code",
   "execution_count": 31,
   "metadata": {},
   "outputs": [],
   "source": [
    "def glorot_initialization():\n",
    "    b = np.sqrt(6/4)\n",
    "    return np.random.uniform(-b, b,1)[0]"
   ]
  },
  {
   "cell_type": "code",
   "execution_count": 32,
   "metadata": {},
   "outputs": [],
   "source": [
    "for p in param_names:\n",
    "    if 'b' in p or 'c' in p:\n",
    "        env[p]= 0\n",
    "    else:\n",
    "        env[p] = glorot_initialization()"
   ]
  },
  {
   "cell_type": "code",
   "execution_count": 33,
   "metadata": {},
   "outputs": [
    {
     "data": {
      "text/plain": [
       "{'b1': 0,\n",
       " 'w11': -0.20325374835775567,\n",
       " 'w12': 0.5396825867704658,\n",
       " 'b2': 0,\n",
       " 'w21': -1.2244647114496698,\n",
       " 'w22': -0.48418433582064735,\n",
       " 'c': 0,\n",
       " 'u1': -0.8652678221420625,\n",
       " 'u2': -0.9985624306424064,\n",
       " 'x1': 1,\n",
       " 'x2': -1}"
      ]
     },
     "execution_count": 33,
     "metadata": {},
     "output_type": "execute_result"
    }
   ],
   "source": [
    "env"
   ]
  },
  {
   "cell_type": "markdown",
   "metadata": {},
   "source": [
    "#### Training loop"
   ]
  },
  {
   "cell_type": "code",
   "execution_count": 34,
   "metadata": {},
   "outputs": [],
   "source": [
    "losses = []\n",
    "epoch_losses = []\n",
    "for e in range(250):\n",
    "    epoch_loss = 0\n",
    "    epoch_parameters_grads = np.zeros(len(param_names))\n",
    "    for j in range(5):\n",
    "        env['x1'] = train_data.x1[j]\n",
    "        env['x2'] = train_data.x2[j] \n",
    "        env['y'] = train_data.y[j]\n",
    "        \n",
    "        this_loss = loss.eval()\n",
    "        epoch_loss += this_loss\n",
    "        losses.append(this_loss)\n",
    "        gradients = list(map(lambda x: loss.derivative(x).eval(), param_names))\n",
    "        \n",
    "        # alternative 1 - stochastic gradient descent\n",
    "#         for p, grad in zip(param_names, gradients):\n",
    "#             env[p] = env[p] - 0.5 * grad\n",
    "        # end alternative 1\n",
    "        \n",
    "        # alternative 2 - gradient descent\n",
    "        for i, grad in enumerate(gradients):\n",
    "            epoch_parameters_grads[i] = epoch_parameters_grads[i] + grad/5\n",
    "            \n",
    "    for i, p in enumerate(param_names):\n",
    "        env[p] = env[p] - 2.5 * epoch_parameters_grads[i]\n",
    "        # end alternative 2\n",
    "            \n",
    "    epoch_losses.append(epoch_loss)"
   ]
  },
  {
   "cell_type": "markdown",
   "metadata": {},
   "source": [
    "#### Visualization"
   ]
  },
  {
   "cell_type": "code",
   "execution_count": 35,
   "metadata": {},
   "outputs": [
    {
     "data": {
      "image/png": "[encoded data removed]",
      "text/plain": [
       "<Figure size 432x288 with 1 Axes>"
      ]
     },
     "metadata": {
      "needs_background": "light"
     },
     "output_type": "display_data"
    }
   ],
   "source": [
    "plt.figure()\n",
    "plt.scatter(range(len(losses)),losses, s=2)\n",
    "plt.ylabel('loss of training sample')\n",
    "plt.xlabel('training sample')\n",
    "plt.show()"
   ]
  },
  {
   "cell_type": "code",
   "execution_count": 36,
   "metadata": {},
   "outputs": [
    {
     "data": {
      "image/png": "[encoded data removed]",
      "text/plain": [
       "<Figure size 432x288 with 1 Axes>"
      ]
     },
     "metadata": {
      "needs_background": "light"
     },
     "output_type": "display_data"
    }
   ],
   "source": [
    "plt.figure()\n",
    "plt.plot(epoch_losses)\n",
    "plt.ylabel('epoch loss')\n",
    "plt.xlabel('epoch')\n",
    "plt.show()"
   ]
  },
  {
   "cell_type": "markdown",
   "metadata": {},
   "source": [
    "#### Predictions"
   ]
  },
  {
   "cell_type": "code",
   "execution_count": 37,
   "metadata": {},
   "outputs": [
    {
     "name": "stdout",
     "output_type": "stream",
     "text": [
      "Sample 0, label 1, pred 0.9879618221372729\n",
      "Sample 1, label 0, pred 0.005694968975560848\n",
      "Sample 2, label 0, pred 0.00560798240846052\n",
      "Sample 3, label 0, pred 0.005624236673691374\n",
      "Sample 4, label 0, pred 0.00569446455420342\n"
     ]
    }
   ],
   "source": [
    "for j in range(5):\n",
    "    env['x1'] = train_data.x1[j]\n",
    "    env['x2'] = train_data.x2[j] \n",
    "    env['y'] = train_data.y[j]\n",
    "    \n",
    "    pred = f_out.eval()\n",
    "    print(f'Sample {j}, label {env[\"y\"]}, pred {pred}')"
   ]
  }
 ],
 "metadata": {
  "kernelspec": {
   "display_name": "Python 3",
   "language": "python",
   "name": "python3"
  },
  "language_info": {
   "codemirror_mode": {
    "name": "ipython",
    "version": 3
   },
   "file_extension": ".py",
   "mimetype": "text/x-python",
   "name": "python",
   "nbconvert_exporter": "python",
   "pygments_lexer": "ipython3",
   "version": "3.7.5"
  }
 },
 "nbformat": 4,
 "nbformat_minor": 4
}
