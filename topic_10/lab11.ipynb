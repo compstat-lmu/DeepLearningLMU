{
 "cells": [
  {
   "cell_type": "code",
   "execution_count": 1,
   "metadata": {
    "pycharm": {
     "name": "#%%\n"
    }
   },
   "outputs": [],
   "source": [
    "import matplotlib.pyplot as plt\n",
    "import numpy as np\n",
    "import tensorflow as tf\n",
    "from tensorflow import keras\n",
    "from tensorflow.keras import layers, initializers\n",
    "from tensorflow.keras.datasets import mnist\n",
    "from tensorflow.python.keras import activations\n",
    "from tensorflow.python.keras.utils.np_utils import to_categorical"
   ]
  },
  {
   "cell_type": "markdown",
   "metadata": {},
   "source": [
    "## Exercise 2"
   ]
  },
  {
   "cell_type": "markdown",
   "metadata": {},
   "source": [
    "#### Load data"
   ]
  },
  {
   "cell_type": "code",
   "execution_count": 2,
   "metadata": {
    "pycharm": {
     "name": "#%%\n"
    }
   },
   "outputs": [],
   "source": [
    "(x_train, y_train), (_, _) = mnist.load_data()\n",
    "x_train = x_train / 255\n",
    "y_train = to_categorical(y_train)\n",
    "input_size = 28 * 28\n",
    "x_train = x_train.reshape((x_train.shape[0], input_size))"
   ]
  },
  {
   "cell_type": "markdown",
   "metadata": {},
   "source": [
    "#### Custom Dense layer"
   ]
  },
  {
   "cell_type": "code",
   "execution_count": 3,
   "metadata": {
    "pycharm": {
     "name": "#%%\n"
    }
   },
   "outputs": [
    {
     "name": "stdout",
     "output_type": "stream",
     "text": [
      "Epoch 1/2\n",
      "1875/1875 [==============================] - 2s 918us/step - loss: 0.5831 - accuracy: 0.8379\n",
      "Epoch 2/2\n",
      "1875/1875 [==============================] - 1s 728us/step - loss: 0.2062 - accuracy: 0.9398\n"
     ]
    },
    {
     "data": {
      "text/plain": [
       "<tensorflow.python.keras.callbacks.History at 0x7f8017e7b110>"
      ]
     },
     "execution_count": 3,
     "metadata": {},
     "output_type": "execute_result"
    }
   ],
   "source": [
    "class OurDense(tf.keras.layers.Layer):\n",
    "    def __init__(self, units, activation):\n",
    "        super(OurDense, self).__init__()\n",
    "        self.units = units\n",
    "        self.activation = activation\n",
    "\n",
    "    def build(self, input_shape):\n",
    "        self.weight_mat = self.add_weight(\n",
    "            \"weight_mat\",\n",
    "            shape=(int(input_shape[-1]), self.units),\n",
    "            initializer=initializers.glorot_normal(),\n",
    "        )\n",
    "        self.bias = self.add_weight(\n",
    "            \"bias\", shape=(self.units,), initializer=initializers.constant()\n",
    "        )\n",
    "\n",
    "    def call(self, inputs, **kwargs):\n",
    "        return self.activation(tf.matmul(inputs, self.weight_mat) + self.bias)\n",
    "\n",
    "\n",
    "model = keras.Sequential(\n",
    "    [\n",
    "        OurDense(units=32, activation=activations.relu),\n",
    "        OurDense(units=10, activation=activations.softmax),\n",
    "    ]\n",
    ")\n",
    "model.compile(optimizer=\"adam\", loss=\"categorical_crossentropy\", metrics=[\"accuracy\"])\n",
    "model.fit(x_train, y_train, epochs=2)"
   ]
  },
  {
   "cell_type": "markdown",
   "metadata": {},
   "source": [
    "#### Custom Sampling Layer\n"
   ]
  },
  {
   "cell_type": "code",
   "execution_count": 4,
   "metadata": {
    "pycharm": {
     "name": "#%%\n"
    }
   },
   "outputs": [],
   "source": [
    "kl_weight = tf.Variable(1.0)\n",
    "\n",
    "\n",
    "class SamplingLayer(tf.keras.layers.Layer):\n",
    "    def call(self, inputs, **kwargs):\n",
    "        mu = inputs[0]\n",
    "        log_var = inputs[1]\n",
    "        kl_loss = (\n",
    "            -tf.reduce_mean(\n",
    "                tf.reduce_sum(1 + log_var - tf.square(mu) - tf.exp(log_var), axis=-1)\n",
    "            )\n",
    "            / 2\n",
    "        )\n",
    "\n",
    "        self.add_loss(\n",
    "            kl_weight\n",
    "            * kl_loss\n",
    "            / 784  # scale the KL to a magnitude comparable to the MSE\n",
    "        )\n",
    "\n",
    "        # generate the random noise\n",
    "        eps = tf.random.normal(tf.shape(mu))\n",
    "\n",
    "        return mu + eps * tf.exp(log_var / 2)"
   ]
  },
  {
   "cell_type": "code",
   "execution_count": 5,
   "metadata": {
    "pycharm": {
     "name": "#%%\n"
    }
   },
   "outputs": [],
   "source": [
    "latent_dim = 32\n",
    "hidden_dim = 512\n",
    "sample_dim = 784\n",
    "\n",
    "input = layers.Input(shape=(sample_dim,))\n",
    "\n",
    "# common encoder layers\n",
    "ll = OurDense(hidden_dim, activation=activations.relu)(input)\n",
    "\n",
    "# separate heads for mean and standard deviation\n",
    "latent_mean = OurDense(latent_dim, activations.linear)(ll)\n",
    "latent_log_std = OurDense(latent_dim, activations.linear)(ll)"
   ]
  },
  {
   "cell_type": "code",
   "execution_count": 6,
   "metadata": {
    "pycharm": {
     "name": "#%%\n"
    }
   },
   "outputs": [],
   "source": [
    "# note that the input is a list of two layers\n",
    "latent_code = SamplingLayer()((latent_mean, latent_log_std))\n",
    "\n",
    "# decoder layers\n",
    "x = OurDense(hidden_dim, activations.relu)(latent_code)\n",
    "output = OurDense(sample_dim, activations.linear)(x)"
   ]
  },
  {
   "cell_type": "code",
   "execution_count": 7,
   "metadata": {
    "pycharm": {
     "name": "#%%\n"
    }
   },
   "outputs": [
    {
     "name": "stdout",
     "output_type": "stream",
     "text": [
      "Epoch 1/2\n",
      "1875/1875 [==============================] - 9s 4ms/step - loss: 0.0576\n",
      "Epoch 2/2\n",
      "1875/1875 [==============================] - 8s 4ms/step - loss: 0.0445\n"
     ]
    },
    {
     "data": {
      "text/plain": [
       "<tensorflow.python.keras.callbacks.History at 0x7f800004d450>"
      ]
     },
     "execution_count": 7,
     "metadata": {},
     "output_type": "execute_result"
    }
   ],
   "source": [
    "model = keras.Model(input, output)\n",
    "model.compile(\n",
    "    loss=\"mse\",\n",
    "    optimizer=\"adam\",\n",
    ")\n",
    "\n",
    "model.fit(x_train, x_train, epochs=2)"
   ]
  },
  {
   "cell_type": "code",
   "execution_count": 8,
   "metadata": {
    "pycharm": {
     "name": "#%%\n"
    }
   },
   "outputs": [
    {
     "data": {
      "text/plain": [
       "<matplotlib.image.AxesImage at 0x7f7ff07ea810>"
      ]
     },
     "execution_count": 8,
     "metadata": {},
     "output_type": "execute_result"
    },
    {
     "data": {
      "image/png": "[encoded data removed]",
      "text/plain": [
       "<Figure size 432x288 with 1 Axes>"
      ]
     },
     "metadata": {
      "needs_background": "light"
     },
     "output_type": "display_data"
    }
   ],
   "source": [
    "reconstruction = model.predict(x_train[[4], :])\n",
    "reconstruction = np.clip(reconstruction, 0, 1).reshape((28, -1))\n",
    "plt.imshow(reconstruction, cmap=\"gray\")"
   ]
  },
  {
   "cell_type": "markdown",
   "metadata": {},
   "source": [
    "#### Custom Callback"
   ]
  },
  {
   "cell_type": "code",
   "execution_count": 9,
   "metadata": {
    "pycharm": {
     "name": "#%%\n"
    }
   },
   "outputs": [
    {
     "name": "stdout",
     "output_type": "stream",
     "text": [
      "Epoch 1/20\n",
      "epoch 1 is lower than starting epoch 4\n",
      "1875/1875 [==============================] - 8s 4ms/step - loss: 0.0266\n",
      "Epoch 2/20\n",
      "epoch 2 is lower than starting epoch 4\n",
      "1875/1875 [==============================] - 8s 4ms/step - loss: 0.0118\n",
      "Epoch 3/20\n",
      "epoch 3 is lower than starting epoch 4\n",
      "1875/1875 [==============================] - 8s 4ms/step - loss: 0.0102\n",
      "Epoch 4/20\n",
      "kl weight is 0.0 at epoch 4\n",
      "1875/1875 [==============================] - 8s 4ms/step - loss: 0.0095\n",
      "Epoch 5/20\n",
      "kl weight is 0.125 at epoch 5\n",
      "1875/1875 [==============================] - 8s 4ms/step - loss: 0.0217\n",
      "Epoch 6/20\n",
      "kl weight is 0.25 at epoch 6\n",
      "1875/1875 [==============================] - 7s 4ms/step - loss: 0.0268\n",
      "Epoch 7/20\n",
      "kl weight is 0.375 at epoch 7\n",
      "1875/1875 [==============================] - 9s 5ms/step - loss: 0.0309\n",
      "Epoch 8/20\n",
      "kl weight is 0.5 at epoch 8\n",
      "1875/1875 [==============================] - 8s 4ms/step - loss: 0.0337\n",
      "Epoch 9/20\n",
      "kl weight is 0.625 at epoch 9\n",
      "1875/1875 [==============================] - 8s 4ms/step - loss: 0.0362\n",
      "Epoch 10/20\n",
      "kl weight is 0.75 at epoch 10\n",
      "1875/1875 [==============================] - 8s 4ms/step - loss: 0.0383\n",
      "Epoch 11/20\n",
      "kl weight is 0.875 at epoch 11\n",
      "1875/1875 [==============================] - 8s 4ms/step - loss: 0.0401\n",
      "Epoch 12/20\n",
      "kl weight is 1.0 at epoch 12\n",
      "1875/1875 [==============================] - 8s 4ms/step - loss: 0.0417\n",
      "Epoch 13/20\n",
      "kl weight is 1 at epoch 13\n",
      "1875/1875 [==============================] - 8s 4ms/step - loss: 0.0413\n",
      "Epoch 14/20\n",
      "kl weight is 1 at epoch 14\n",
      "1875/1875 [==============================] - 8s 4ms/step - loss: 0.0409\n",
      "Epoch 15/20\n",
      "kl weight is 1 at epoch 15\n",
      "1875/1875 [==============================] - 8s 4ms/step - loss: 0.0407\n",
      "Epoch 16/20\n",
      "kl weight is 1 at epoch 16\n",
      "1875/1875 [==============================] - 8s 5ms/step - loss: 0.0405\n",
      "Epoch 17/20\n",
      "kl weight is 1 at epoch 17\n",
      "1875/1875 [==============================] - 8s 4ms/step - loss: 0.0404\n",
      "Epoch 18/20\n",
      "kl weight is 1 at epoch 18\n",
      "1875/1875 [==============================] - 8s 4ms/step - loss: 0.0404\n",
      "Epoch 19/20\n",
      "kl weight is 1 at epoch 19\n",
      "1875/1875 [==============================] - 8s 4ms/step - loss: 0.0401\n",
      "Epoch 20/20\n",
      "kl weight is 1 at epoch 20\n",
      "1875/1875 [==============================] - 8s 4ms/step - loss: 0.0401\n"
     ]
    },
    {
     "data": {
      "text/plain": [
       "<tensorflow.python.keras.callbacks.History at 0x7f7ff0503550>"
      ]
     },
     "execution_count": 9,
     "metadata": {},
     "output_type": "execute_result"
    }
   ],
   "source": [
    "class KlAnnealingCallback(tf.keras.callbacks.Callback):\n",
    "    def __init__(self, epoch_start, duration_epochs, variable):\n",
    "        super(KlAnnealingCallback, self).__init__()\n",
    "        self.epoch_start = epoch_start\n",
    "        self.duration_epochs = duration_epochs\n",
    "        self.variable = variable\n",
    "\n",
    "    def on_train_begin(self, logs=None):\n",
    "        self.variable.assign(0)\n",
    "\n",
    "    def on_epoch_begin(self, epoch, logs=None):\n",
    "        epoch += 1\n",
    "        if epoch < self.epoch_start:\n",
    "            print(f\"epoch {epoch} is lower than starting epoch {self.epoch_start}\")\n",
    "        else:\n",
    "            new_weight = min((epoch - self.epoch_start) / self.duration_epochs, 1)\n",
    "            self.variable.assign(new_weight)\n",
    "            print(f\"kl weight is {new_weight} at epoch {epoch}\")\n",
    "\n",
    "\n",
    "input = layers.Input(shape=(sample_dim,))\n",
    "ll = layers.Dense(hidden_dim, activations.relu)(input)\n",
    "latent_mean = layers.Dense(latent_dim, activations.linear)(ll)\n",
    "latent_log_std = layers.Dense(latent_dim, activations.linear)(ll)\n",
    "\n",
    "latent_code = SamplingLayer()((latent_mean, latent_log_std))\n",
    "x = layers.Dense(hidden_dim, activations.relu)(latent_code)\n",
    "output = layers.Dense(sample_dim, activations.linear)(x)\n",
    "\n",
    "model = keras.Model(input, output)\n",
    "model.compile(\n",
    "    loss=\"mse\",\n",
    "    optimizer=\"adam\",\n",
    ")\n",
    "\n",
    "model.fit(\n",
    "    x_train,\n",
    "    x_train,\n",
    "    epochs=20,\n",
    "    callbacks=[\n",
    "        KlAnnealingCallback(epoch_start=4, duration_epochs=8, variable=kl_weight)\n",
    "    ],\n",
    ")"
   ]
  },
  {
   "cell_type": "code",
   "execution_count": 10,
   "metadata": {
    "pycharm": {
     "name": "#%%\n"
    }
   },
   "outputs": [
    {
     "data": {
      "text/plain": [
       "<matplotlib.image.AxesImage at 0x7f7ff03b6e50>"
      ]
     },
     "execution_count": 10,
     "metadata": {},
     "output_type": "execute_result"
    },
    {
     "data": {
      "image/png": "[encoded data removed]",
      "text/plain": [
       "<Figure size 432x288 with 1 Axes>"
      ]
     },
     "metadata": {
      "needs_background": "light"
     },
     "output_type": "display_data"
    }
   ],
   "source": [
    "reconstruction = model.predict(x_train[[4], :])\n",
    "reconstruction = np.clip(reconstruction, 0, 1).reshape((28, -1))\n",
    "plt.imshow(reconstruction, cmap=\"gray\")"
   ]
  }
 ],
 "metadata": {
  "kernelspec": {
   "display_name": "Python 3",
   "language": "python",
   "name": "python3"
  },
  "language_info": {
   "codemirror_mode": {
    "name": "ipython",
    "version": 3
   },
   "file_extension": ".py",
   "mimetype": "text/x-python",
   "name": "python",
   "nbconvert_exporter": "python",
   "pygments_lexer": "ipython3",
   "version": "3.7.5"
  }
 },
 "nbformat": 4,
 "nbformat_minor": 4
}
