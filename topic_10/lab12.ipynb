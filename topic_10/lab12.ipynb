{
 "cells": [
  {
   "cell_type": "code",
   "execution_count": 1,
   "metadata": {
    "pycharm": {
     "name": "#%%\n"
    }
   },
   "outputs": [],
   "source": [
    "from random import sample\n",
    "\n",
    "import matplotlib.pyplot as plt\n",
    "import numpy as np\n",
    "import tensorflow as tf\n",
    "from tensorflow import keras\n",
    "from tensorflow.keras import layers\n",
    "from tensorflow.keras.datasets import mnist\n",
    "from tensorflow.python.keras.utils.np_utils import to_categorical"
   ]
  },
  {
   "cell_type": "markdown",
   "metadata": {},
   "source": [
    "## Exercise 1"
   ]
  },
  {
   "cell_type": "markdown",
   "metadata": {},
   "source": [
    "#### Load data"
   ]
  },
  {
   "cell_type": "code",
   "execution_count": 2,
   "metadata": {
    "pycharm": {
     "name": "#%%\n"
    }
   },
   "outputs": [],
   "source": [
    "(x_train, y_train), (_, _) = mnist.load_data()\n",
    "x_train = (x_train - 127.5) / 127.5\n",
    "y_train = to_categorical(y_train)\n",
    "input_size = 28 * 28\n",
    "x_train = x_train.reshape((x_train.shape[0], input_size))"
   ]
  },
  {
   "cell_type": "markdown",
   "metadata": {},
   "source": [
    "#### Generator"
   ]
  },
  {
   "cell_type": "code",
   "execution_count": 3,
   "metadata": {
    "pycharm": {
     "name": "#%%\n"
    }
   },
   "outputs": [],
   "source": [
    "optim = tf.optimizers.Adam(\n",
    "    learning_rate=0.0002,\n",
    "    beta_1=0.5,\n",
    ")\n",
    "noise_size = 32\n",
    "generator = keras.Sequential(\n",
    "    [\n",
    "        layers.Dense(256, input_shape=(noise_size,)),\n",
    "        layers.LeakyReLU(alpha=0.2),\n",
    "        layers.Dense(512),\n",
    "        layers.LeakyReLU(alpha=0.2),\n",
    "        layers.Dense(1024),\n",
    "        layers.LeakyReLU(alpha=0.2),\n",
    "        layers.Dense(784, activation=\"tanh\"),\n",
    "    ]\n",
    ")\n",
    "\n",
    "generator.compile(loss=\"mse\", optimizer=optim)"
   ]
  },
  {
   "cell_type": "markdown",
   "metadata": {},
   "source": [
    "#### Discriminator"
   ]
  },
  {
   "cell_type": "code",
   "execution_count": 4,
   "metadata": {
    "pycharm": {
     "name": "#%%\n"
    }
   },
   "outputs": [],
   "source": [
    "discriminator = keras.Sequential(\n",
    "    [\n",
    "        layers.Dense(1024, input_shape=(784,)),\n",
    "        layers.LeakyReLU(alpha=0.2),\n",
    "        layers.Dropout(0.3),\n",
    "        layers.Dense(512),\n",
    "        layers.LeakyReLU(alpha=0.2),\n",
    "        layers.Dropout(0.3),\n",
    "        layers.Dense(256),\n",
    "        layers.LeakyReLU(alpha=0.2),\n",
    "        layers.Dropout(0.3),\n",
    "        layers.Dense(1, activation=\"sigmoid\"),\n",
    "    ]\n",
    ")\n",
    "\n",
    "discriminator.compile(loss=\"binary_crossentropy\", optimizer=optim)"
   ]
  },
  {
   "cell_type": "markdown",
   "metadata": {},
   "source": [
    "#### GAN"
   ]
  },
  {
   "cell_type": "code",
   "execution_count": 5,
   "metadata": {
    "pycharm": {
     "name": "#%%\n"
    }
   },
   "outputs": [],
   "source": [
    "gan_input = layers.Input(shape=(noise_size,))\n",
    "gan_output = discriminator(generator(gan_input))\n",
    "gan = keras.Model(gan_input, gan_output)\n",
    "gan.compile(loss=\"binary_crossentropy\", optimizer=optim)"
   ]
  },
  {
   "cell_type": "markdown",
   "metadata": {},
   "source": [
    "#### Training"
   ]
  },
  {
   "cell_type": "code",
   "execution_count": 6,
   "metadata": {
    "pycharm": {
     "name": "#%%\n"
    }
   },
   "outputs": [
    {
     "name": "stdout",
     "output_type": "stream",
     "text": [
      "Step 0, generator losses: 0.9721341133117676, discriminator losses: 0.4704849123954773,\n",
      "Step 250, generator losses: 0.8033317816257477, discriminator losses: 0.5725460106134415,\n",
      "Step 500, generator losses: 0.8221080130338669, discriminator losses: 0.56315598487854,\n",
      "Step 750, generator losses: 0.8151345330476761, discriminator losses: 0.5601272004842758,\n",
      "Step 1000, generator losses: 0.8159313309192657, discriminator losses: 0.5595499545335769,\n",
      "Step 1250, generator losses: 0.807854653596878, discriminator losses: 0.5644290697574615,\n",
      "Step 1500, generator losses: 0.7996916097402572, discriminator losses: 0.5687394618988038,\n",
      "Step 1750, generator losses: 0.7872013276815415, discriminator losses: 0.5771817183494568,\n",
      "Step 2000, generator losses: 0.7831154292821885, discriminator losses: 0.578257549405098,\n",
      "Step 2250, generator losses: 0.7789176762104034, discriminator losses: 0.581608214378357,\n"
     ]
    }
   ],
   "source": [
    "batch_size = 128\n",
    "\n",
    "generator_losses = []\n",
    "discriminator_losses = []\n",
    "dloss = 0\n",
    "gloss = 0\n",
    "\n",
    "for i in range(2500):\n",
    "\n",
    "    for _ in range(5):\n",
    "        batch_idx = sample(range(x_train.shape[0]), batch_size)\n",
    "        batch_images = x_train[batch_idx, :]\n",
    "        noise = np.random.normal(size=(batch_size, noise_size))\n",
    "        generated = generator.predict(noise)\n",
    "        dloss = discriminator.train_on_batch(\n",
    "            np.vstack([batch_images, generated]),\n",
    "            np.expand_dims(np.array([0.9] * batch_size + [0.1] * batch_size), 1),\n",
    "        )\n",
    "\n",
    "    noise = np.random.normal(size=(batch_size, noise_size))\n",
    "    gloss = gan.train_on_batch(noise, np.expand_dims(np.array([1] * batch_size), 1))\n",
    "    discriminator_losses.append(dloss)\n",
    "    generator_losses.append(gloss)\n",
    "\n",
    "    if i % 250 == 0:\n",
    "        print(\n",
    "            f\"Step {i}, generator losses: {np.mean(generator_losses[-100:])}, discriminator losses: {np.mean(discriminator_losses[-100:])},\"\n",
    "        )"
   ]
  },
  {
   "cell_type": "code",
   "execution_count": 7,
   "metadata": {
    "pycharm": {
     "name": "#%%\n"
    }
   },
   "outputs": [],
   "source": [
    "assert 0.5 < dloss < 0.7 < gloss < 1.0"
   ]
  },
  {
   "cell_type": "code",
   "execution_count": 8,
   "metadata": {
    "pycharm": {
     "name": "#%%\n"
    }
   },
   "outputs": [
    {
     "data": {
      "text/plain": [
       "[<matplotlib.lines.Line2D at 0x7f075408fe90>]"
      ]
     },
     "execution_count": 8,
     "metadata": {},
     "output_type": "execute_result"
    },
    {
     "data": {
      "image/png": "[encoded data removed]",
      "text/plain": [
       "<Figure size 432x288 with 1 Axes>"
      ]
     },
     "metadata": {
      "needs_background": "light"
     },
     "output_type": "display_data"
    }
   ],
   "source": [
    "plt.figure()\n",
    "plt.plot(discriminator_losses, label=\"Discriminator\")\n",
    "plt.plot(generator_losses, label=\"Generator\")"
   ]
  },
  {
   "cell_type": "code",
   "execution_count": 9,
   "metadata": {
    "pycharm": {
     "name": "#%%\n"
    }
   },
   "outputs": [
    {
     "data": {
      "image/png": "[encoded data removed]",
      "text/plain": [
       "<Figure size 432x288 with 25 Axes>"
      ]
     },
     "metadata": {
      "needs_background": "light"
     },
     "output_type": "display_data"
    }
   ],
   "source": [
    "n_images = 25\n",
    "noise = np.random.normal(size=(n_images, noise_size))\n",
    "generated = generator.predict(noise)\n",
    "generated = np.clip(generated, 0, 1)\n",
    "for i in range(n_images):\n",
    "    # define subplot\n",
    "    plt.subplot(5, 5, 1 + i)\n",
    "    # turn off axis\n",
    "    plt.axis(\"off\")\n",
    "    # plot raw pixel data\n",
    "    plt.imshow(generated[i, :].reshape(28, -1), cmap=\"gray\")\n",
    "plt.show()"
   ]
  }
 ],
 "metadata": {
  "kernelspec": {
   "display_name": "Python 3",
   "language": "python",
   "name": "python3"
  },
  "language_info": {
   "codemirror_mode": {
    "name": "ipython",
    "version": 3
   },
   "file_extension": ".py",
   "mimetype": "text/x-python",
   "name": "python",
   "nbconvert_exporter": "python",
   "pygments_lexer": "ipython3",
   "version": "3.7.5"
  }
 },
 "nbformat": 4,
 "nbformat_minor": 4
}
