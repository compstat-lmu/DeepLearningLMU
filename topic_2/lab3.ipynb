{
 "cells": [
  {
   "cell_type": "code",
   "execution_count": 1,
   "metadata": {},
   "outputs": [],
   "source": [
    "import numpy as np\n",
    "import pandas as pd\n",
    "import seaborn as sns\n",
    "import matplotlib.pyplot as plt\n",
    "from copy import copy as cp\n",
    "sns.set_theme()\n",
    "\n",
    "np.random.seed(1)\n",
    "np.set_printoptions(formatter={'float': lambda x: \"{0:0.5f}\".format(x)})"
   ]
  },
  {
   "cell_type": "markdown",
   "metadata": {},
   "source": [
    "## Exercise 1"
   ]
  },
  {
   "cell_type": "code",
   "execution_count": 2,
   "metadata": {},
   "outputs": [],
   "source": [
    "class Function:\n",
    "    \n",
    "    def __init__(self, value, gradient):\n",
    "        self.value = value\n",
    "        self.gradient = gradient\n",
    "        "
   ]
  },
  {
   "cell_type": "code",
   "execution_count": 3,
   "metadata": {},
   "outputs": [],
   "source": [
    "val = lambda x: (x[0] - 6)**2+x[1]**2-x[0]*x[1] \n",
    "grad = lambda x: np.array((2*x[0]-x[1]-12, -x[0]+2*x[1]))\n",
    "func = Function(val, grad)"
   ]
  },
  {
   "cell_type": "code",
   "execution_count": 4,
   "metadata": {},
   "outputs": [
    {
     "data": {
      "text/plain": [
       "0"
      ]
     },
     "execution_count": 4,
     "metadata": {},
     "output_type": "execute_result"
    }
   ],
   "source": [
    "func.value(np.array([6,6]))"
   ]
  },
  {
   "cell_type": "code",
   "execution_count": 5,
   "metadata": {},
   "outputs": [
    {
     "data": {
      "text/plain": [
       "array([-6,  6])"
      ]
     },
     "execution_count": 5,
     "metadata": {},
     "output_type": "execute_result"
    }
   ],
   "source": [
    "func.gradient(np.array([6,6]))"
   ]
  },
  {
   "cell_type": "code",
   "execution_count": 6,
   "metadata": {},
   "outputs": [],
   "source": [
    "class GradientDescentOptimizer:\n",
    "    \n",
    "    def __init__(self, x0, func, max_steps, alpha):\n",
    "        self.x = x0\n",
    "        self.v = func.value(x0)\n",
    "        self.func = func\n",
    "        self.max_steps = max_steps\n",
    "        self.alpha = alpha\n",
    "        \n",
    "    def optimize(self, verbose=False):\n",
    "        for i in range(self.max_steps):\n",
    "            self.x = self.x - self.alpha * self.func.gradient(self.x)\n",
    "            v_new = self.func.value(self.x)\n",
    "            if self.v - v_new < 1e-4:\n",
    "                break\n",
    "            \n",
    "            if verbose:\n",
    "                print(i, self.x.round(5), f'{self.v:.5f}', f'{v_new:.5f}')\n",
    "            \n",
    "            self.v = v_new\n",
    "            "
   ]
  },
  {
   "cell_type": "code",
   "execution_count": 7,
   "metadata": {},
   "outputs": [
    {
     "name": "stdout",
     "output_type": "stream",
     "text": [
      "0 [6.60000 5.40000] 0.00000 -6.12000\n",
      "1 [7.02000 4.98000] -6.12000 -9.11880\n",
      "2 [7.31400 4.68600] -9.11880 -10.58821\n",
      "3 [7.51980 4.48020] -10.58821 -11.30822\n",
      "4 [7.66386 4.33614] -11.30822 -11.66103\n",
      "5 [7.76470 4.23530] -11.66103 -11.83390\n",
      "6 [7.83529 4.16471] -11.83390 -11.91861\n",
      "7 [7.88470 4.11530] -11.91861 -11.96012\n",
      "8 [7.91929 4.08071] -11.96012 -11.98046\n",
      "9 [7.94350 4.05650] -11.98046 -11.99042\n"
     ]
    },
    {
     "data": {
      "text/plain": [
       "array([7.94350, 4.05650])"
      ]
     },
     "execution_count": 7,
     "metadata": {},
     "output_type": "execute_result"
    }
   ],
   "source": [
    "gdo = GradientDescentOptimizer(np.array([6,6]), func, 10, 0.1)\n",
    "gdo.optimize(verbose=True)\n",
    "gdo.x"
   ]
  },
  {
   "cell_type": "markdown",
   "metadata": {},
   "source": [
    "## Exercise 3"
   ]
  },
  {
   "cell_type": "markdown",
   "metadata": {},
   "source": [
    "#### Training data"
   ]
  },
  {
   "cell_type": "code",
   "execution_count": 8,
   "metadata": {},
   "outputs": [],
   "source": [
    "train_data = pd.DataFrame(data=np.array([[0,1,0,-1,0],[0,0,-1,0,1],[1,0,0,0,0]]).T, columns=['x1','x2','y'] )"
   ]
  },
  {
   "cell_type": "code",
   "execution_count": 9,
   "metadata": {},
   "outputs": [
    {
     "data": {
      "text/html": [
       "<div>\n",
       "<style scoped>\n",
       "    .dataframe tbody tr th:only-of-type {\n",
       "        vertical-align: middle;\n",
       "    }\n",
       "\n",
       "    .dataframe tbody tr th {\n",
       "        vertical-align: top;\n",
       "    }\n",
       "\n",
       "    .dataframe thead th {\n",
       "        text-align: right;\n",
       "    }\n",
       "</style>\n",
       "<table border=\"1\" class=\"dataframe\">\n",
       "  <thead>\n",
       "    <tr style=\"text-align: right;\">\n",
       "      <th></th>\n",
       "      <th>x1</th>\n",
       "      <th>x2</th>\n",
       "      <th>y</th>\n",
       "    </tr>\n",
       "  </thead>\n",
       "  <tbody>\n",
       "    <tr>\n",
       "      <th>0</th>\n",
       "      <td>0</td>\n",
       "      <td>0</td>\n",
       "      <td>1</td>\n",
       "    </tr>\n",
       "    <tr>\n",
       "      <th>1</th>\n",
       "      <td>1</td>\n",
       "      <td>0</td>\n",
       "      <td>0</td>\n",
       "    </tr>\n",
       "    <tr>\n",
       "      <th>2</th>\n",
       "      <td>0</td>\n",
       "      <td>-1</td>\n",
       "      <td>0</td>\n",
       "    </tr>\n",
       "    <tr>\n",
       "      <th>3</th>\n",
       "      <td>-1</td>\n",
       "      <td>0</td>\n",
       "      <td>0</td>\n",
       "    </tr>\n",
       "    <tr>\n",
       "      <th>4</th>\n",
       "      <td>0</td>\n",
       "      <td>1</td>\n",
       "      <td>0</td>\n",
       "    </tr>\n",
       "  </tbody>\n",
       "</table>\n",
       "</div>"
      ],
      "text/plain": [
       "   x1  x2  y\n",
       "0   0   0  1\n",
       "1   1   0  0\n",
       "2   0  -1  0\n",
       "3  -1   0  0\n",
       "4   0   1  0"
      ]
     },
     "execution_count": 9,
     "metadata": {},
     "output_type": "execute_result"
    }
   ],
   "source": [
    "train_data"
   ]
  },
  {
   "cell_type": "markdown",
   "metadata": {},
   "source": [
    "#### Activation / loss functions"
   ]
  },
  {
   "cell_type": "code",
   "execution_count": 10,
   "metadata": {},
   "outputs": [],
   "source": [
    "def sigmoid(x):\n",
    "    return 1 / (1+np.exp(-x))\n",
    "\n",
    "def binary_cross_entropy(f_out, y):\n",
    "    return -(y*np.log(f_out + 1e-15)+(1-y)*np.log(1-f_out + 1e-15))"
   ]
  },
  {
   "cell_type": "markdown",
   "metadata": {},
   "source": [
    "#### Main NeuralNetwork class"
   ]
  },
  {
   "cell_type": "code",
   "execution_count": 11,
   "metadata": {},
   "outputs": [],
   "source": [
    "class NeuralNetwork:\n",
    "    def __init__(self, params, data):\n",
    "        self.parameters = params\n",
    "        self.data = data\n",
    "    \n",
    "    @property\n",
    "    def parameters(self):\n",
    "        return np.array([self.b1, self.b2, self.w11, self.w12, self.w21, self.w22, self.c, self.u1, self.u2])\n",
    "  \n",
    "    @parameters.setter\n",
    "    def parameters(self, params):\n",
    "        self.b1 = params[0]\n",
    "        self.b2 = params[1]\n",
    "        self.w11 = params[2]\n",
    "        self.w12 = params[3]\n",
    "        self.w21 = params[4]\n",
    "        self.w22 = params[5]\n",
    "        self.c = params[6]\n",
    "        self.u1 = params[7]\n",
    "        self.u2 = params[8] \n",
    "        \n",
    "    def predict(self, prediction_data=None):\n",
    "        if prediction_data is not None:\n",
    "            this_data = prediction_data\n",
    "        else:\n",
    "            prediction_data = self.data\n",
    "        self.z1in = self.b1 + prediction_data.x1 * self.w11 + prediction_data.x2 * self.w21\n",
    "        self.z1out = np.tanh(self.z1in)\n",
    "        self.z2in = self.b2 + prediction_data.x1 * self.w12 + prediction_data.x2 * self.w22\n",
    "        self.z2out = np.tanh(self.z2in)\n",
    "        self.fin = self.c + self.u1 * self.z1out + self.u2 * self.z2out\n",
    "        self.fout = sigmoid(self.fin)\n",
    "\n",
    "        return self.fout\n",
    "    \n",
    "    def loss(self):\n",
    "        preds = self.predict()\n",
    "        return np.mean(binary_cross_entropy(preds, self.data.y))\n",
    "    \n",
    "    def gradient(self):\n",
    "        # now we start back-propagation through the loss and the output neuron\n",
    "        dL_dfout = -self.data.y / (self.fout + 1e-15) + (1 - self.data.y) / (1 - self.fout + 1e-15)\n",
    "        dfout_dfin = sigmoid(self.fin) * (1 - sigmoid(self.fin))\n",
    "        \n",
    "        # compute the gradients for the parameters of the output layer\n",
    "        dfin_dc = 1\n",
    "        dfin_du1 = self.z1out\n",
    "        dfin_du2 = self.z2out\n",
    "        \n",
    "        # take the mean gradient across data points\n",
    "        dL_dc = np.mean(dL_dfout * dfout_dfin * dfin_dc)\n",
    "        dL_du1 = np.mean(dL_dfout * dfout_dfin * dfin_du1)\n",
    "        dL_du2 = np.mean(dL_dfout * dfout_dfin * dfin_du2)\n",
    "        \n",
    "        # back-propagate through the neurons in the first hidden layer\n",
    "        dfin_dz1out = self.u1\n",
    "        dfin_dz2out = self.u2\n",
    "        dz1out_dz1in = 1 - np.tanh(self.z1in)**2\n",
    "        dz2out_dz2in = 1 - np.tanh(self.z2in)**2\n",
    "        \n",
    "        # and compute the derivatives of the parameters of the hidden layer\n",
    "        dz1in_db1 = dz2in_db2 = 1\n",
    "        dL_db1 = np.mean(dL_dfout * dfout_dfin * dfin_dz1out * dz1out_dz1in * dz1in_db1)\n",
    "        dL_db2 = np.mean(dL_dfout * dfout_dfin * dfin_dz2out * dz2out_dz2in * dz2in_db2)\n",
    "        dz1in_dw11 = self.data.x1\n",
    "        dz2in_dw12 = self.data.x1\n",
    "        dL_dw11 = np.mean(dL_dfout * dfout_dfin * dfin_dz1out * dz1out_dz1in * dz1in_dw11)\n",
    "        dL_dw12 = np.mean(dL_dfout * dfout_dfin * dfin_dz2out * dz2out_dz2in * dz2in_dw12)\n",
    "        dz1in_dw21 = self.data.x2\n",
    "        dz2in_dw22 = self.data.x2\n",
    "        dL_dw21 = np.mean(dL_dfout * dfout_dfin * dfin_dz1out * dz1out_dz1in * dz1in_dw21)\n",
    "        dL_dw22 = np.mean(dL_dfout * dfout_dfin * dfin_dz2out * dz2out_dz2in * dz2in_dw22)\n",
    "\n",
    "        return np.array([dL_db1, dL_db2, dL_dw11, dL_dw12, dL_dw21, dL_dw22, dL_dc, dL_du1, dL_du2])\n",
    "        \n",
    "    def train(self, verbose=False):\n",
    "        max_steps = 100\n",
    "        alpha = 1\n",
    "        \n",
    "        for i in range(max_steps):\n",
    "            \n",
    "            #forward pass\n",
    "            old_loss = self.loss()\n",
    "            \n",
    "            #backpropagation step\n",
    "            current_parameters = self.parameters\n",
    "            self.parameters = current_parameters - alpha * self.gradient()\n",
    "            \n",
    "            new_loss = self.loss()\n",
    "            \n",
    "            if verbose:\n",
    "                print(i, f'{old_loss:.5f}', f'{new_loss:.5f}')\n",
    "            \n",
    "            if old_loss - new_loss < 1e-4:\n",
    "                break\n",
    "            \n",
    "        return new_loss\n",
    "        "
   ]
  },
  {
   "cell_type": "markdown",
   "metadata": {},
   "source": [
    "#### Initialize network randomly"
   ]
  },
  {
   "cell_type": "code",
   "execution_count": 12,
   "metadata": {},
   "outputs": [],
   "source": [
    "params = np.random.randn(9)\n",
    "nnet = NeuralNetwork(params,train_data)"
   ]
  },
  {
   "cell_type": "markdown",
   "metadata": {},
   "source": [
    "#### Check prediction function"
   ]
  },
  {
   "cell_type": "code",
   "execution_count": 13,
   "metadata": {},
   "outputs": [
    {
     "data": {
      "text/plain": [
       "0    0.704019\n",
       "1    0.698192\n",
       "2    0.825680\n",
       "3    0.757939\n",
       "4    0.663033\n",
       "dtype: float64"
      ]
     },
     "execution_count": 13,
     "metadata": {},
     "output_type": "execute_result"
    }
   ],
   "source": [
    "nnet.predict()"
   ]
  },
  {
   "cell_type": "markdown",
   "metadata": {},
   "source": [
    "#### Check loss function"
   ]
  },
  {
   "cell_type": "code",
   "execution_count": 14,
   "metadata": {},
   "outputs": [
    {
     "data": {
      "text/plain": [
       "1.1604226359847671"
      ]
     },
     "execution_count": 14,
     "metadata": {},
     "output_type": "execute_result"
    }
   ],
   "source": [
    "nnet.loss()"
   ]
  },
  {
   "cell_type": "markdown",
   "metadata": {},
   "source": [
    "#### Check gradient function"
   ]
  },
  {
   "cell_type": "code",
   "execution_count": 15,
   "metadata": {},
   "outputs": [
    {
     "data": {
      "text/plain": [
       "array([-0.11488, 0.03905, -0.03235, -0.03365, 0.07140, -0.00622, 0.52977,\n",
       "       0.44092, -0.01029])"
      ]
     },
     "execution_count": 15,
     "metadata": {},
     "output_type": "execute_result"
    }
   ],
   "source": [
    "nnet.gradient()"
   ]
  },
  {
   "cell_type": "code",
   "execution_count": 16,
   "metadata": {},
   "outputs": [
    {
     "name": "stdout",
     "output_type": "stream",
     "text": [
      "Gradients are correct!\n"
     ]
    }
   ],
   "source": [
    "# first, compute the analytical gradient of the parameters\n",
    "gradient = nnet.gradient()\n",
    "eps = 1e-9\n",
    "for i in range(9):\n",
    "    # compute loss when subtracting eps to parameter i\n",
    "    neg_params = cp(params)\n",
    "    neg_params[i] = neg_params[i] - eps\n",
    "    nnet_neg = NeuralNetwork(neg_params, train_data)\n",
    "    neg_value = nnet_neg.loss()\n",
    "    \n",
    "    # compute loss when adding eps to parameter i\n",
    "    pos_params = cp(params)\n",
    "    pos_params[i] = pos_params[i] + eps\n",
    "    nnet_pos = NeuralNetwork(pos_params, train_data)\n",
    "    pos_value = nnet_pos.loss()\n",
    "    \n",
    "    # compute the \"empirical\" gradient of parameter i\n",
    "    fdiff_gradient = np.mean((pos_value - neg_value) / (2 * eps));\n",
    "    \n",
    "    # error if difference is too large\n",
    "    assert abs(gradient[i] - fdiff_gradient) < 1e-5\n",
    "\n",
    "print(\"Gradients are correct!\")"
   ]
  },
  {
   "cell_type": "markdown",
   "metadata": {},
   "source": [
    "#### Train the network"
   ]
  },
  {
   "cell_type": "code",
   "execution_count": 17,
   "metadata": {},
   "outputs": [
    {
     "name": "stdout",
     "output_type": "stream",
     "text": [
      "0 1.16042 0.75548\n",
      "1 0.75548 0.60711\n",
      "2 0.60711 0.55388\n",
      "3 0.55388 0.53039\n",
      "4 0.53039 0.51761\n",
      "5 0.51761 0.50945\n",
      "6 0.50945 0.50362\n",
      "7 0.50362 0.49912\n",
      "8 0.49912 0.49543\n",
      "9 0.49543 0.49229\n",
      "10 0.49229 0.48952\n",
      "11 0.48952 0.48700\n",
      "12 0.48700 0.48465\n",
      "13 0.48465 0.48244\n",
      "14 0.48244 0.48032\n",
      "15 0.48032 0.47827\n",
      "16 0.47827 0.47628\n",
      "17 0.47628 0.47434\n",
      "18 0.47434 0.47244\n",
      "19 0.47244 0.47057\n",
      "20 0.47057 0.46874\n",
      "21 0.46874 0.46695\n",
      "22 0.46695 0.46520\n",
      "23 0.46520 0.46347\n",
      "24 0.46347 0.46178\n",
      "25 0.46178 0.46012\n",
      "26 0.46012 0.45850\n",
      "27 0.45850 0.45691\n",
      "28 0.45691 0.45534\n",
      "29 0.45534 0.45381\n",
      "30 0.45381 0.45231\n",
      "31 0.45231 0.45084\n",
      "32 0.45084 0.44940\n",
      "33 0.44940 0.44798\n",
      "34 0.44798 0.44660\n",
      "35 0.44660 0.44524\n",
      "36 0.44524 0.44391\n",
      "37 0.44391 0.44260\n",
      "38 0.44260 0.44133\n",
      "39 0.44133 0.44008\n",
      "40 0.44008 0.43886\n",
      "41 0.43886 0.43766\n",
      "42 0.43766 0.43649\n",
      "43 0.43649 0.43535\n",
      "44 0.43535 0.43424\n",
      "45 0.43424 0.43315\n",
      "46 0.43315 0.43208\n",
      "47 0.43208 0.43104\n",
      "48 0.43104 0.43002\n",
      "49 0.43002 0.42903\n",
      "50 0.42903 0.42806\n",
      "51 0.42806 0.42712\n",
      "52 0.42712 0.42620\n",
      "53 0.42620 0.42530\n",
      "54 0.42530 0.42442\n",
      "55 0.42442 0.42357\n",
      "56 0.42357 0.42273\n",
      "57 0.42273 0.42192\n",
      "58 0.42192 0.42112\n",
      "59 0.42112 0.42034\n",
      "60 0.42034 0.41958\n",
      "61 0.41958 0.41884\n",
      "62 0.41884 0.41812\n",
      "63 0.41812 0.41741\n",
      "64 0.41741 0.41672\n",
      "65 0.41672 0.41605\n",
      "66 0.41605 0.41539\n",
      "67 0.41539 0.41474\n",
      "68 0.41474 0.41411\n",
      "69 0.41411 0.41350\n",
      "70 0.41350 0.41289\n",
      "71 0.41289 0.41230\n",
      "72 0.41230 0.41172\n",
      "73 0.41172 0.41115\n",
      "74 0.41115 0.41059\n",
      "75 0.41059 0.41004\n",
      "76 0.41004 0.40950\n",
      "77 0.40950 0.40897\n",
      "78 0.40897 0.40845\n",
      "79 0.40845 0.40794\n",
      "80 0.40794 0.40744\n",
      "81 0.40744 0.40694\n",
      "82 0.40694 0.40645\n",
      "83 0.40645 0.40597\n",
      "84 0.40597 0.40549\n",
      "85 0.40549 0.40502\n",
      "86 0.40502 0.40456\n",
      "87 0.40456 0.40409\n",
      "88 0.40409 0.40364\n",
      "89 0.40364 0.40319\n",
      "90 0.40319 0.40274\n",
      "91 0.40274 0.40229\n",
      "92 0.40229 0.40185\n",
      "93 0.40185 0.40140\n",
      "94 0.40140 0.40096\n",
      "95 0.40096 0.40052\n",
      "96 0.40052 0.40008\n",
      "97 0.40008 0.39964\n",
      "98 0.39964 0.39920\n",
      "99 0.39920 0.39875\n"
     ]
    },
    {
     "data": {
      "text/plain": [
       "0.3987548189416419"
      ]
     },
     "execution_count": 17,
     "metadata": {},
     "output_type": "execute_result"
    }
   ],
   "source": [
    "nnet.train(verbose=True)"
   ]
  },
  {
   "cell_type": "markdown",
   "metadata": {},
   "source": [
    "#### Train multiple networks to find best parameterization"
   ]
  },
  {
   "cell_type": "code",
   "execution_count": 18,
   "metadata": {},
   "outputs": [
    {
     "name": "stdout",
     "output_type": "stream",
     "text": [
      "Loss: 0.40950\n",
      "Loss: 0.50214\n",
      "Loss: 0.36548\n",
      "Loss: 0.44099\n",
      "Loss: 0.09532 *\n",
      "Loss: 0.11540\n",
      "Loss: 0.05380 *\n",
      "Loss: 0.10543\n",
      "Loss: 0.50139\n",
      "Loss: 0.50192\n"
     ]
    }
   ],
   "source": [
    "min_loss = np.inf\n",
    "random_initializations = 10\n",
    "\n",
    "best_parameters = None\n",
    "\n",
    "for i in range(random_initializations):\n",
    "    p = np.random.randn(9)\n",
    "    nn = NeuralNetwork(p, train_data)\n",
    "    final_loss = nn.train()\n",
    "    print(f'Loss: {final_loss:.5f}{\" *\" if final_loss < 0.1 else \"\"}')\n",
    "    if final_loss < min_loss:\n",
    "        min_loss = final_loss\n",
    "        best_parameters = p"
   ]
  },
  {
   "cell_type": "markdown",
   "metadata": {},
   "source": [
    "#### Visualize best network"
   ]
  },
  {
   "cell_type": "code",
   "execution_count": 19,
   "metadata": {},
   "outputs": [
    {
     "data": {
      "text/plain": [
       "0.05379924575790945"
      ]
     },
     "execution_count": 19,
     "metadata": {},
     "output_type": "execute_result"
    }
   ],
   "source": [
    "best_nn = NeuralNetwork(best_parameters, train_data)\n",
    "best_nn.train()"
   ]
  },
  {
   "cell_type": "code",
   "execution_count": 20,
   "metadata": {},
   "outputs": [],
   "source": [
    "def get_plot_data():\n",
    "    x_grid, y_grid = np.mgrid[-2:2:1/25, -2:2:1/25]\n",
    "    x_pos = x_grid.ravel()\n",
    "    y_pos = y_grid.ravel()\n",
    "    return np.array([x_pos,y_pos]).T\n",
    "\n",
    "plot_data = pd.DataFrame(data=get_plot_data(), columns=['x1','x2'])"
   ]
  },
  {
   "cell_type": "code",
   "execution_count": 21,
   "metadata": {},
   "outputs": [],
   "source": [
    "predictions = best_nn.predict(plot_data)"
   ]
  },
  {
   "cell_type": "code",
   "execution_count": 22,
   "metadata": {},
   "outputs": [],
   "source": [
    "def plot_grid(predictions):\n",
    "    plt.figure()\n",
    "    sns.scatterplot(x=plot_data.x1,y=plot_data.x2, hue=predictions, marker=\"s\",s=11)\n",
    "    sns.scatterplot(x=train_data.x1,y=train_data.x2, hue=train_data.y, marker=\"s\",s=20)\n",
    "    plt.show()"
   ]
  },
  {
   "cell_type": "code",
   "execution_count": 23,
   "metadata": {},
   "outputs": [
    {
     "data": {
      "image/png": "[encoded data removed]",
      "text/plain": [
       "<Figure size 432x288 with 1 Axes>"
      ]
     },
     "metadata": {},
     "output_type": "display_data"
    }
   ],
   "source": [
    "plot_grid(predictions)"
   ]
  },
  {
   "cell_type": "markdown",
   "metadata": {},
   "source": [
    "#### Visualize random network"
   ]
  },
  {
   "cell_type": "code",
   "execution_count": 24,
   "metadata": {},
   "outputs": [],
   "source": [
    "untrained_network = NeuralNetwork(np.random.randn(9), train_data)\n",
    "predictions = untrained_network.predict(plot_data)"
   ]
  },
  {
   "cell_type": "code",
   "execution_count": 25,
   "metadata": {},
   "outputs": [
    {
     "data": {
      "image/png": "[encoded data removed]",
      "text/plain": [
       "<Figure size 432x288 with 1 Axes>"
      ]
     },
     "metadata": {},
     "output_type": "display_data"
    }
   ],
   "source": [
    "plot_grid(predictions)"
   ]
  }
 ],
 "metadata": {
  "kernelspec": {
   "display_name": "Python 3",
   "language": "python",
   "name": "python3"
  },
  "language_info": {
   "codemirror_mode": {
    "name": "ipython",
    "version": 3
   },
   "file_extension": ".py",
   "mimetype": "text/x-python",
   "name": "python",
   "nbconvert_exporter": "python",
   "pygments_lexer": "ipython3",
   "version": "3.7.5"
  }
 },
 "nbformat": 4,
 "nbformat_minor": 4
}