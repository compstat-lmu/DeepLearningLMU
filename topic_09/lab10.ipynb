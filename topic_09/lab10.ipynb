{
 "cells": [
  {
   "cell_type": "code",
   "execution_count": 1,
   "metadata": {},
   "outputs": [],
   "source": [
    "import matplotlib.pyplot as plt\n",
    "import numpy as np\n",
    "import tensorflow as tf\n",
    "from keras_preprocessing.sequence import pad_sequences\n",
    "from tensorflow import keras\n",
    "from tensorflow.keras import layers\n",
    "from tensorflow.keras.datasets import imdb, mnist\n",
    "from tensorflow.python.keras.backend import flatten"
   ]
  },
  {
   "cell_type": "markdown",
   "metadata": {},
   "source": [
    "## Exercise 1"
   ]
  },
  {
   "cell_type": "markdown",
   "metadata": {},
   "source": [
    "#### Load data"
   ]
  },
  {
   "cell_type": "code",
   "execution_count": 3,
   "metadata": {
    "pycharm": {
     "name": "#%%\n"
    }
   },
   "outputs": [
    {
     "data": {
      "text/plain": [
       "array([list([1, 6740, 365, 1234, 5, 1156, 354, 11, 14, 5327, 6638, 7, 1016, 2, 5940, 356, 44, 4, 1349, 500, 746, 5, 200, 4, 4132, 11, 2, 9363, 1117, 1831, 7485, 5, 4831, 26, 6, 2, 4183, 17, 369, 37, 215, 1345, 143, 2, 5, 1838, 8, 1974, 15, 36, 119, 257, 85, 52, 486, 9, 6, 2, 8564, 63, 271, 6, 196, 96, 949, 4121, 4, 2, 7, 4, 2212, 2436, 819, 63, 47, 77, 7175, 180, 6, 227, 11, 94, 2494, 2, 13, 423, 4, 168, 7, 4, 22, 5, 89, 665, 71, 270, 56, 5, 13, 197, 12, 161, 5390, 99, 76, 23, 2, 7, 419, 665, 40, 91, 85, 108, 7, 4, 2084, 5, 4773, 81, 55, 52, 1901])],\n",
       "      dtype=object)"
      ]
     },
     "execution_count": 3,
     "metadata": {},
     "output_type": "execute_result"
    }
   ],
   "source": [
    "(x_train, y_train), (x_test, y_test) = np.array(imdb.load_data(num_words=10000, maxlen=250), dtype=\"object\")\n",
    "x_train[[5]]"
   ]
  },
  {
   "cell_type": "code",
   "execution_count": 4,
   "metadata": {
    "pycharm": {
     "name": "#%%\n"
    }
   },
   "outputs": [],
   "source": [
    "x_train = pad_sequences(x_train, 250)\n",
    "x_test = pad_sequences(x_test, 250)"
   ]
  },
  {
   "cell_type": "markdown",
   "metadata": {},
   "source": [
    "#### Define and compile model"
   ]
  },
  {
   "cell_type": "code",
   "execution_count": 5,
   "metadata": {
    "pycharm": {
     "name": "#%%\n"
    }
   },
   "outputs": [
    {
     "name": "stdout",
     "output_type": "stream",
     "text": [
      "Model: \"sequential\"\n",
      "_________________________________________________________________\n",
      "Layer (type)                 Output Shape              Param #   \n",
      "=================================================================\n",
      "embedding (Embedding)        (None, None, 64)          640064    \n",
      "_________________________________________________________________\n",
      "lstm (LSTM)                  (None, 32)                12416     \n",
      "_________________________________________________________________\n",
      "dense (Dense)                (None, 1)                 33        \n",
      "=================================================================\n",
      "Total params: 652,513\n",
      "Trainable params: 652,513\n",
      "Non-trainable params: 0\n",
      "_________________________________________________________________\n"
     ]
    }
   ],
   "source": [
    "model = keras.Sequential(\n",
    "    [\n",
    "        layers.Embedding(input_dim=10001, output_dim=64, mask_zero=True),\n",
    "        layers.LSTM(units=32),\n",
    "        layers.Dense(units=1, activation=\"sigmoid\"),\n",
    "    ]\n",
    ")\n",
    "model.compile(optimizer=\"rmsprop\", loss=\"binary_crossentropy\", metrics=[\"accuracy\"])\n",
    "model.summary()"
   ]
  },
  {
   "cell_type": "markdown",
   "metadata": {},
   "source": [
    "#### Train model"
   ]
  },
  {
   "cell_type": "code",
   "execution_count": 6,
   "metadata": {
    "pycharm": {
     "name": "#%%\n"
    }
   },
   "outputs": [
    {
     "name": "stdout",
     "output_type": "stream",
     "text": [
      "Epoch 1/8\n",
      "536/536 [==============================] - 62s 109ms/step - loss: 0.4953 - accuracy: 0.7440 - val_loss: 0.3177 - val_accuracy: 0.8771\n",
      "Epoch 2/8\n",
      "536/536 [==============================] - 61s 114ms/step - loss: 0.2449 - accuracy: 0.9087 - val_loss: 0.2833 - val_accuracy: 0.8819\n",
      "Epoch 3/8\n",
      "536/536 [==============================] - 74s 139ms/step - loss: 0.1848 - accuracy: 0.9321 - val_loss: 0.6281 - val_accuracy: 0.8278\n",
      "Epoch 4/8\n",
      "536/536 [==============================] - 62s 116ms/step - loss: 0.1797 - accuracy: 0.9357 - val_loss: 0.3569 - val_accuracy: 0.8562\n",
      "Epoch 5/8\n",
      "536/536 [==============================] - 65s 121ms/step - loss: 0.1445 - accuracy: 0.9472 - val_loss: 0.4074 - val_accuracy: 0.8550\n",
      "Epoch 6/8\n",
      "536/536 [==============================] - 73s 137ms/step - loss: 0.1326 - accuracy: 0.9521 - val_loss: 0.3026 - val_accuracy: 0.8770\n",
      "Epoch 7/8\n",
      "536/536 [==============================] - 72s 135ms/step - loss: 0.1098 - accuracy: 0.9616 - val_loss: 0.3472 - val_accuracy: 0.8763\n",
      "Epoch 8/8\n",
      "536/536 [==============================] - 67s 124ms/step - loss: 0.1050 - accuracy: 0.9623 - val_loss: 0.3543 - val_accuracy: 0.8758\n"
     ]
    }
   ],
   "source": [
    "history = model.fit(\n",
    "    x_train,\n",
    "    y_train,\n",
    "    batch_size=32,\n",
    "    epochs=8,\n",
    "    verbose=1,\n",
    "    validation_data=(x_test, y_test),\n",
    ")"
   ]
  },
  {
   "cell_type": "code",
   "execution_count": 7,
   "metadata": {
    "pycharm": {
     "name": "#%%\n"
    }
   },
   "outputs": [
    {
     "data": {
      "image/png": "[encoded data removed]",
      "text/plain": [
       "<Figure size 432x288 with 1 Axes>"
      ]
     },
     "metadata": {
      "needs_background": "light"
     },
     "output_type": "display_data"
    },
    {
     "data": {
      "image/png": "[encoded data removed]",
      "text/plain": [
       "<Figure size 432x288 with 1 Axes>"
      ]
     },
     "metadata": {
      "needs_background": "light"
     },
     "output_type": "display_data"
    }
   ],
   "source": [
    "def plot_model(tf_history):\n",
    "    loss_train = tf_history.history[\"loss\"]\n",
    "    loss_val = tf_history.history[\"val_loss\"]\n",
    "    plt.plot(loss_train, \"g\", label=\"Training loss\")\n",
    "    plt.plot(loss_val, \"b\", label=\"Validation loss\")\n",
    "    plt.title(\"Training and Validation loss\")\n",
    "    plt.xlabel(\"Epochs\")\n",
    "    plt.ylabel(\"Loss\")\n",
    "    plt.legend()\n",
    "    plt.show()\n",
    "\n",
    "    loss_train = tf_history.history[\"accuracy\"]\n",
    "    loss_val = tf_history.history[\"val_accuracy\"]\n",
    "    plt.plot(loss_train, \"g\", label=\"Training accuracy\")\n",
    "    plt.plot(loss_val, \"b\", label=\"Validation accuracy\")\n",
    "    plt.title(\"Training and Validation accuracy\")\n",
    "    plt.xlabel(\"Epochs\")\n",
    "    plt.ylabel(\"Accuracy\")\n",
    "    plt.legend()\n",
    "    plt.show()\n",
    "\n",
    "\n",
    "plot_model(history)"
   ]
  },
  {
   "cell_type": "markdown",
   "metadata": {},
   "source": [
    "## Exercise 2"
   ]
  },
  {
   "cell_type": "markdown",
   "metadata": {},
   "source": [
    "#### Load data"
   ]
  },
  {
   "cell_type": "code",
   "execution_count": 8,
   "metadata": {
    "pycharm": {
     "name": "#%%\n"
    }
   },
   "outputs": [],
   "source": [
    "(x_train, _), (_, _) = mnist.load_data()\n",
    "x_train = x_train / 255\n",
    "input_size = 28 * 28\n",
    "\n",
    "x_train = x_train.reshape((x_train.shape[0], input_size))\n",
    "\n",
    "latent_size = 64"
   ]
  },
  {
   "cell_type": "markdown",
   "metadata": {},
   "source": [
    "#### PCA"
   ]
  },
  {
   "cell_type": "code",
   "execution_count": 9,
   "metadata": {
    "pycharm": {
     "name": "#%%\n"
    }
   },
   "outputs": [],
   "source": [
    "weights_encoder = tf.Variable(\n",
    "    np.random.normal(\n",
    "        size=(input_size, latent_size), scale=np.sqrt(6 / (latent_size + input_size))\n",
    "    )\n",
    ")\n",
    "weights_decoder = tf.Variable(\n",
    "    np.random.normal(\n",
    "        size=(latent_size, input_size), scale=np.sqrt(6 / (latent_size + input_size))\n",
    "    )\n",
    ")"
   ]
  },
  {
   "cell_type": "code",
   "execution_count": 10,
   "metadata": {
    "pycharm": {
     "name": "#%%\n"
    }
   },
   "outputs": [
    {
     "data": {
      "text/plain": [
       "<tf.Variable 'Variable:0' shape=(784, 64) dtype=float64, numpy=\n",
       "array([[ 0.0438776 ,  0.04234501, -0.01357064, ...,  0.17380414,\n",
       "        -0.08697724,  0.03312812],\n",
       "       [ 0.13030174,  0.10190569,  0.01288597, ..., -0.05891545,\n",
       "        -0.14600905, -0.14947471],\n",
       "       [-0.03779398,  0.16145425, -0.03213812, ...,  0.10777565,\n",
       "        -0.02682676,  0.05812801],\n",
       "       ...,\n",
       "       [ 0.03083117, -0.08112208, -0.01137346, ..., -0.14569393,\n",
       "        -0.06394161, -0.07060609],\n",
       "       [ 0.04389079, -0.06498639,  0.02678528, ...,  0.11843029,\n",
       "         0.08234794,  0.05625745],\n",
       "       [-0.07174825, -0.01750163, -0.08829561, ..., -0.04803614,\n",
       "         0.04516167, -0.07229356]])>"
      ]
     },
     "execution_count": 10,
     "metadata": {},
     "output_type": "execute_result"
    }
   ],
   "source": [
    "weights_encoder"
   ]
  },
  {
   "cell_type": "code",
   "execution_count": 11,
   "metadata": {
    "pycharm": {
     "name": "#%%\n"
    }
   },
   "outputs": [],
   "source": [
    "optimizer = tf.optimizers.Adam(learning_rate=0.001)"
   ]
  },
  {
   "cell_type": "code",
   "execution_count": 12,
   "metadata": {
    "pycharm": {
     "name": "#%%\n"
    }
   },
   "outputs": [
    {
     "name": "stdout",
     "output_type": "stream",
     "text": [
      "Batch 0 - Loss: 308.4347704526046\n",
      "Batch 250 - Loss: 33.933228482040036\n",
      "Batch 500 - Loss: 17.408171381214558\n",
      "Batch 750 - Loss: 14.071504554381447\n",
      "Batch 1000 - Loss: 11.748118675873163\n",
      "Batch 1250 - Loss: 9.99884107201855\n",
      "Batch 1500 - Loss: 10.407682881419491\n",
      "Batch 1750 - Loss: 8.955791026062494\n"
     ]
    }
   ],
   "source": [
    "batch_size = 32\n",
    "bs = tf.cast(batch_size, tf.float64)\n",
    "num_batches = int(np.floor(x_train.shape[0] / batch_size))\n",
    "\n",
    "for i in range(num_batches):\n",
    "    batch = x_train[i * batch_size : (i + 1) * batch_size + 1, :]\n",
    "    with tf.GradientTape() as tape:\n",
    "        latent = tf.matmul(batch, weights_encoder)\n",
    "        reconstruction = tf.matmul(latent, weights_decoder)\n",
    "        loss = tf.reduce_sum(tf.square(reconstruction - batch)) / bs\n",
    "\n",
    "    variables = [weights_encoder, weights_decoder]\n",
    "    gradients = tape.gradient(loss, variables)\n",
    "    optimizer.apply_gradients(zip(gradients, variables))\n",
    "\n",
    "    if i % 250 == 0:\n",
    "        print(f\"Batch {i} - Loss: {loss.numpy()}\")"
   ]
  },
  {
   "cell_type": "markdown",
   "metadata": {},
   "source": [
    "#### More advanced autoencoder"
   ]
  },
  {
   "cell_type": "code",
   "execution_count": 13,
   "metadata": {
    "pycharm": {
     "name": "#%%\n"
    }
   },
   "outputs": [],
   "source": [
    "batch_size = 32\n",
    "num_epochs = 15\n",
    "(x_train, _), (_, _) = mnist.load_data()\n",
    "\n",
    "dataset = tf.data.Dataset.from_tensor_slices(x_train)\n",
    "dataset = dataset.map(lambda x: tf.cast(flatten(x), tf.float32) / 255)\n",
    "dataset = dataset.shuffle(x_train.shape[0])\n",
    "dataset = dataset.repeat(num_epochs)\n",
    "dataset = dataset.batch(batch_size)"
   ]
  },
  {
   "cell_type": "code",
   "execution_count": 14,
   "metadata": {
    "pycharm": {
     "name": "#%%\n"
    }
   },
   "outputs": [],
   "source": [
    "def make_weights(input_size, output_size):\n",
    "    b = np.sqrt(6 / (output_size + input_size))\n",
    "    weights = np.random.uniform(-b, b, (input_size, output_size))\n",
    "    return tf.Variable(weights, dtype=tf.float32)\n",
    "\n",
    "\n",
    "def make_bias(size):\n",
    "    return tf.Variable(tf.zeros((1, size)), dtype=tf.float32)\n",
    "\n",
    "\n",
    "ew1 = make_weights(784, 256)\n",
    "eb1 = make_bias(256)\n",
    "ew2 = make_weights(256, 64)\n",
    "eb2 = make_bias(64)\n",
    "dw1 = make_weights(64, 256)\n",
    "db1 = make_bias(256)\n",
    "dw2 = make_weights(256, 784)\n",
    "db2 = make_bias(784)"
   ]
  },
  {
   "cell_type": "code",
   "execution_count": 15,
   "metadata": {
    "pycharm": {
     "name": "#%%\n"
    }
   },
   "outputs": [],
   "source": [
    "def encoder(inputs):\n",
    "    x = tf.matmul(inputs, ew1) + eb1\n",
    "    x = tf.nn.tanh(x)\n",
    "    return tf.matmul(x, ew2) + eb2\n",
    "\n",
    "\n",
    "def decoder(latent):\n",
    "    x = tf.matmul(latent, dw1) + db1\n",
    "    x = tf.nn.tanh(x)\n",
    "    return tf.matmul(x, dw2) + db2"
   ]
  },
  {
   "cell_type": "code",
   "execution_count": 16,
   "metadata": {
    "pycharm": {
     "name": "#%%\n"
    }
   },
   "outputs": [
    {
     "name": "stdout",
     "output_type": "stream",
     "text": [
      "Batch 0 - Loss: 128.8943634033203\n",
      "Batch 250 - Loss: 11.971966743469238\n",
      "Batch 500 - Loss: 9.834606170654297\n",
      "Batch 750 - Loss: 7.357369899749756\n",
      "Batch 1000 - Loss: 8.448759078979492\n",
      "Batch 1250 - Loss: 7.908270835876465\n",
      "Batch 1500 - Loss: 6.881094455718994\n"
     ]
    }
   ],
   "source": [
    "optimizer = tf.optimizers.Adam(learning_rate=0.001)\n",
    "\n",
    "@tf.function\n",
    "def training_step(batch):\n",
    "    with tf.GradientTape() as tape:\n",
    "        reconstruction = decoder(encoder(batch))\n",
    "        loss = tf.reduce_sum(tf.square(reconstruction - batch))/batch.shape[0]\n",
    "\n",
    "    variables = [ew1, eb1, ew2, eb2, dw1, db1, dw2, db2]\n",
    "    gradients = tape.gradient(loss, variables)\n",
    "    optimizer.apply_gradients(zip(gradients, variables))\n",
    "    return loss\n",
    "\n",
    "def train(num_batches):\n",
    "    for i, batch in enumerate(dataset):\n",
    "        loss = training_step(batch)\n",
    "        if i % 250 == 0:\n",
    "            print(f\"Batch {i} - Loss: {loss}\")\n",
    "        if i > num_batches:\n",
    "            break\n",
    "\n",
    "\n",
    "train(1500)"
   ]
  },
  {
   "cell_type": "code",
   "execution_count": 17,
   "metadata": {
    "pycharm": {
     "name": "#%%\n"
    }
   },
   "outputs": [],
   "source": [
    "img = tf.cast(\n",
    "    x_train[5, :].reshape(1, -1),\n",
    "    tf.float32,\n",
    ")\n",
    "dec = decoder(encoder(img)).numpy()\n",
    "rec = dec.reshape((28, -1))\n",
    "rec[rec < 0] = 0\n",
    "rec[rec > 1] = 1"
   ]
  },
  {
   "cell_type": "code",
   "execution_count": 18,
   "metadata": {
    "pycharm": {
     "name": "#%%\n"
    }
   },
   "outputs": [
    {
     "data": {
      "text/plain": [
       "<matplotlib.image.AxesImage at 0x7faf623c6e50>"
      ]
     },
     "execution_count": 18,
     "metadata": {},
     "output_type": "execute_result"
    },
    {
     "data": {
      "image/png": "[encoded data removed]",
      "text/plain": [
       "<Figure size 432x288 with 1 Axes>"
      ]
     },
     "metadata": {
      "needs_background": "light"
     },
     "output_type": "display_data"
    }
   ],
   "source": [
    "plt.imshow(rec, cmap=\"gray\")"
   ]
  },
  {
   "cell_type": "code",
   "execution_count": 19,
   "metadata": {
    "pycharm": {
     "name": "#%%\n"
    }
   },
   "outputs": [
    {
     "data": {
      "text/plain": [
       "<matplotlib.image.AxesImage at 0x7faf62352c50>"
      ]
     },
     "execution_count": 19,
     "metadata": {},
     "output_type": "execute_result"
    },
    {
     "data": {
      "image/png": "[encoded data removed]",
      "text/plain": [
       "<Figure size 432x288 with 1 Axes>"
      ]
     },
     "metadata": {
      "needs_background": "light"
     },
     "output_type": "display_data"
    }
   ],
   "source": [
    "plt.imshow(\n",
    "    x_train[5, :],\n",
    "    cmap=\"gray\",\n",
    ")"
   ]
  }
 ],
 "metadata": {
  "kernelspec": {
   "display_name": "Python 3",
   "language": "python",
   "name": "python3"
  },
  "language_info": {
   "codemirror_mode": {
    "name": "ipython",
    "version": 3
   },
   "file_extension": ".py",
   "mimetype": "text/x-python",
   "name": "python",
   "nbconvert_exporter": "python",
   "pygments_lexer": "ipython3",
   "version": "3.7.5"
  }
 },
 "nbformat": 4,
 "nbformat_minor": 4
}